{
 "cells": [
  {
   "cell_type": "markdown",
   "id": "6be6766f",
   "metadata": {},
   "source": [
    "# Homework ML Zoomcamp Week 6"
   ]
  },
  {
   "cell_type": "markdown",
   "id": "d39308ec",
   "metadata": {},
   "source": [
    "## Moduls"
   ]
  },
  {
   "cell_type": "code",
   "execution_count": 52,
   "id": "d93df5cf",
   "metadata": {},
   "outputs": [],
   "source": [
    "# Import modules\n",
    "import pandas as pd\n",
    "import numpy as np\n",
    "\n",
    "from matplotlib import pyplot as plt\n",
    "\n",
    "from sklearn.model_selection import train_test_split\n",
    "from sklearn.feature_extraction import DictVectorizer\n",
    "\n",
    "from sklearn.tree import DecisionTreeRegressor\n",
    "from sklearn.tree import export_text\n",
    "\n",
    "from sklearn.ensemble import RandomForestRegressor\n",
    "\n",
    "from sklearn.metrics import mean_squared_error as mse\n",
    "\n",
    "import xgboost as xgb"
   ]
  },
  {
   "cell_type": "markdown",
   "id": "9a0a4e40",
   "metadata": {},
   "source": [
    "## Data\n",
    "\n",
    "In this homework we'll again use the California Housing Prices dataset - the same one we used in homework 2 and 3.\n",
    "\n",
    "You can take it from Kaggle or download using wget link mentioned below:\n",
    "\n",
    "wget https://raw.githubusercontent.com/alexeygrigorev/datasets/master/housing.csv"
   ]
  },
  {
   "cell_type": "code",
   "execution_count": 2,
   "id": "43a7d78f",
   "metadata": {},
   "outputs": [],
   "source": [
    "# Use only the following columns:\n",
    "\n",
    "cols = ['latitude', 'longitude', 'housing_median_age', 'total_rooms', 'total_bedrooms', 'population', 'households',\n",
    "        'median_income', 'median_house_value', 'ocean_proximity']"
   ]
  },
  {
   "cell_type": "code",
   "execution_count": 3,
   "id": "5a049d7a",
   "metadata": {},
   "outputs": [
    {
     "data": {
      "text/html": [
       "<div>\n",
       "<style scoped>\n",
       "    .dataframe tbody tr th:only-of-type {\n",
       "        vertical-align: middle;\n",
       "    }\n",
       "\n",
       "    .dataframe tbody tr th {\n",
       "        vertical-align: top;\n",
       "    }\n",
       "\n",
       "    .dataframe thead th {\n",
       "        text-align: right;\n",
       "    }\n",
       "</style>\n",
       "<table border=\"1\" class=\"dataframe\">\n",
       "  <thead>\n",
       "    <tr style=\"text-align: right;\">\n",
       "      <th></th>\n",
       "      <th>longitude</th>\n",
       "      <th>latitude</th>\n",
       "      <th>housing_median_age</th>\n",
       "      <th>total_rooms</th>\n",
       "      <th>total_bedrooms</th>\n",
       "      <th>population</th>\n",
       "      <th>households</th>\n",
       "      <th>median_income</th>\n",
       "      <th>median_house_value</th>\n",
       "      <th>ocean_proximity</th>\n",
       "    </tr>\n",
       "  </thead>\n",
       "  <tbody>\n",
       "    <tr>\n",
       "      <th>0</th>\n",
       "      <td>-122.23</td>\n",
       "      <td>37.88</td>\n",
       "      <td>41.0</td>\n",
       "      <td>880.0</td>\n",
       "      <td>129.0</td>\n",
       "      <td>322.0</td>\n",
       "      <td>126.0</td>\n",
       "      <td>8.3252</td>\n",
       "      <td>452600.0</td>\n",
       "      <td>NEAR BAY</td>\n",
       "    </tr>\n",
       "    <tr>\n",
       "      <th>1</th>\n",
       "      <td>-122.22</td>\n",
       "      <td>37.86</td>\n",
       "      <td>21.0</td>\n",
       "      <td>7099.0</td>\n",
       "      <td>1106.0</td>\n",
       "      <td>2401.0</td>\n",
       "      <td>1138.0</td>\n",
       "      <td>8.3014</td>\n",
       "      <td>358500.0</td>\n",
       "      <td>NEAR BAY</td>\n",
       "    </tr>\n",
       "    <tr>\n",
       "      <th>2</th>\n",
       "      <td>-122.24</td>\n",
       "      <td>37.85</td>\n",
       "      <td>52.0</td>\n",
       "      <td>1467.0</td>\n",
       "      <td>190.0</td>\n",
       "      <td>496.0</td>\n",
       "      <td>177.0</td>\n",
       "      <td>7.2574</td>\n",
       "      <td>352100.0</td>\n",
       "      <td>NEAR BAY</td>\n",
       "    </tr>\n",
       "    <tr>\n",
       "      <th>3</th>\n",
       "      <td>-122.25</td>\n",
       "      <td>37.85</td>\n",
       "      <td>52.0</td>\n",
       "      <td>1274.0</td>\n",
       "      <td>235.0</td>\n",
       "      <td>558.0</td>\n",
       "      <td>219.0</td>\n",
       "      <td>5.6431</td>\n",
       "      <td>341300.0</td>\n",
       "      <td>NEAR BAY</td>\n",
       "    </tr>\n",
       "    <tr>\n",
       "      <th>4</th>\n",
       "      <td>-122.25</td>\n",
       "      <td>37.85</td>\n",
       "      <td>52.0</td>\n",
       "      <td>1627.0</td>\n",
       "      <td>280.0</td>\n",
       "      <td>565.0</td>\n",
       "      <td>259.0</td>\n",
       "      <td>3.8462</td>\n",
       "      <td>342200.0</td>\n",
       "      <td>NEAR BAY</td>\n",
       "    </tr>\n",
       "  </tbody>\n",
       "</table>\n",
       "</div>"
      ],
      "text/plain": [
       "   longitude  latitude  housing_median_age  total_rooms  total_bedrooms  \\\n",
       "0    -122.23     37.88                41.0        880.0           129.0   \n",
       "1    -122.22     37.86                21.0       7099.0          1106.0   \n",
       "2    -122.24     37.85                52.0       1467.0           190.0   \n",
       "3    -122.25     37.85                52.0       1274.0           235.0   \n",
       "4    -122.25     37.85                52.0       1627.0           280.0   \n",
       "\n",
       "   population  households  median_income  median_house_value ocean_proximity  \n",
       "0       322.0       126.0         8.3252            452600.0        NEAR BAY  \n",
       "1      2401.0      1138.0         8.3014            358500.0        NEAR BAY  \n",
       "2       496.0       177.0         7.2574            352100.0        NEAR BAY  \n",
       "3       558.0       219.0         5.6431            341300.0        NEAR BAY  \n",
       "4       565.0       259.0         3.8462            342200.0        NEAR BAY  "
      ]
     },
     "metadata": {},
     "output_type": "display_data"
    }
   ],
   "source": [
    "# Read data\n",
    "\n",
    "data = 'https://raw.githubusercontent.com/katrinlaura73/MLZoomcamp/main/housing.csv'\n",
    "\n",
    "df = pd.read_csv(data, usecols = cols)\n",
    "\n",
    "# Check data\n",
    "display(df.head())"
   ]
  },
  {
   "cell_type": "markdown",
   "id": "1448e4f0",
   "metadata": {},
   "source": [
    "## Data cleaning\n",
    "\n",
    "Fill NAs with 0."
   ]
  },
  {
   "cell_type": "code",
   "execution_count": 4,
   "id": "7c6432e7",
   "metadata": {},
   "outputs": [
    {
     "data": {
      "text/plain": [
       "longitude             0\n",
       "latitude              0\n",
       "housing_median_age    0\n",
       "total_rooms           0\n",
       "total_bedrooms        0\n",
       "population            0\n",
       "households            0\n",
       "median_income         0\n",
       "median_house_value    0\n",
       "ocean_proximity       0\n",
       "dtype: int64"
      ]
     },
     "execution_count": 4,
     "metadata": {},
     "output_type": "execute_result"
    }
   ],
   "source": [
    "# fill NAs\n",
    "\n",
    "df = df.fillna(0)\n",
    "\n",
    "# check fill\n",
    "\n",
    "df.isna().sum()"
   ]
  },
  {
   "cell_type": "markdown",
   "id": "4a1c110a",
   "metadata": {},
   "source": [
    "## Data preparation\n",
    "\n",
    "Apply the log tranform to median_house_value.\n",
    "\n",
    "Do train/validation/test split with 60%/20%/20% distribution.\n",
    "\n",
    "Use the train_test_split function and set the random_state parameter to 1.\n",
    "\n",
    "Use DictVectorizer to turn the dataframe into matrices.\n"
   ]
  },
  {
   "cell_type": "code",
   "execution_count": 5,
   "id": "1ffb5420",
   "metadata": {},
   "outputs": [
    {
     "data": {
      "text/plain": [
       "'Median_house_value before transformation:'"
      ]
     },
     "metadata": {},
     "output_type": "display_data"
    },
    {
     "data": {
      "text/plain": [
       "count     20640.000000\n",
       "mean     206855.816909\n",
       "std      115395.615874\n",
       "min       14999.000000\n",
       "25%      119600.000000\n",
       "50%      179700.000000\n",
       "75%      264725.000000\n",
       "max      500001.000000\n",
       "Name: median_house_value, dtype: float64"
      ]
     },
     "metadata": {},
     "output_type": "display_data"
    },
    {
     "data": {
      "text/plain": [
       "'Median_house_value after transformation:'"
      ]
     },
     "metadata": {},
     "output_type": "display_data"
    },
    {
     "data": {
      "text/plain": [
       "count    20640.000000\n",
       "mean        12.084891\n",
       "std          0.569131\n",
       "min          9.615805\n",
       "25%         11.691916\n",
       "50%         12.099050\n",
       "75%         12.486451\n",
       "max         13.122367\n",
       "Name: median_house_value, dtype: float64"
      ]
     },
     "metadata": {},
     "output_type": "display_data"
    }
   ],
   "source": [
    "display(\"Median_house_value before transformation:\", df.median_house_value.describe())\n",
    "\n",
    "# log transform\n",
    "df.median_house_value = np.log1p(df.median_house_value)\n",
    "\n",
    "# Check log transfrom\n",
    "display(\"Median_house_value after transformation:\", df.median_house_value.describe())"
   ]
  },
  {
   "cell_type": "code",
   "execution_count": 6,
   "id": "d19833ed",
   "metadata": {},
   "outputs": [
    {
     "data": {
      "text/plain": [
       "20640"
      ]
     },
     "metadata": {},
     "output_type": "display_data"
    },
    {
     "data": {
      "text/plain": [
       "16512"
      ]
     },
     "metadata": {},
     "output_type": "display_data"
    },
    {
     "data": {
      "text/plain": [
       "4128"
      ]
     },
     "metadata": {},
     "output_type": "display_data"
    },
    {
     "data": {
      "text/plain": [
       "12384"
      ]
     },
     "metadata": {},
     "output_type": "display_data"
    },
    {
     "data": {
      "text/plain": [
       "4128"
      ]
     },
     "metadata": {},
     "output_type": "display_data"
    }
   ],
   "source": [
    "# define seed\n",
    "seed = 1\n",
    "\n",
    "# train/test/val-split\n",
    "\n",
    "df_train_full, df_test = train_test_split(df, test_size = 0.2, random_state=seed )\n",
    "df_train, df_val = train_test_split(df_train_full, test_size = 0.25, random_state=seed)\n",
    "\n",
    "# check split\n",
    "display(len(df), len(df_train_full), len(df_test), len(df_train), len(df_val))"
   ]
  },
  {
   "cell_type": "code",
   "execution_count": 7,
   "id": "6f5d6aa6",
   "metadata": {},
   "outputs": [],
   "source": [
    "# Reset indices\n",
    "df_train = df_train.reset_index(drop=True)\n",
    "df_val = df_val.reset_index(drop=True)\n",
    "df_test = df_test.reset_index(drop=True)\n",
    "\n",
    "# Define target\n",
    "y_train = df_train['median_house_value'].values\n",
    "y_val = df_val['median_house_value'].values\n",
    "y_test = df_test['median_house_value'].values\n",
    "\n",
    "# Delete target\n",
    "del df_train['median_house_value']\n",
    "del df_val['median_house_value']\n",
    "del df_test['median_house_value']"
   ]
  },
  {
   "cell_type": "code",
   "execution_count": 8,
   "id": "1381007a",
   "metadata": {},
   "outputs": [],
   "source": [
    "# Make dicts\n",
    "\n",
    "dv = DictVectorizer(sparse=False)\n",
    "\n",
    "train_dict = df_train.to_dict(orient='records')\n",
    "val_dict = df_val.to_dict(orient='records')\n",
    "test_dict = df_test.to_dict(orient='records')\n",
    "\n",
    "X_train = dv.fit_transform(train_dict)\n",
    "X_val = dv.transform(val_dict)\n",
    "X_test = dv.transform(test_dict)"
   ]
  },
  {
   "cell_type": "markdown",
   "id": "66d2956b",
   "metadata": {},
   "source": [
    "## Question 1\n",
    "\n",
    "Let's train a decision tree regressor to predict the median_house_value variable.\n",
    "\n",
    "Train a model with max_depth=1.\n",
    "\n",
    "Which feature is used for splitting the data?"
   ]
  },
  {
   "cell_type": "code",
   "execution_count": 15,
   "id": "f6aaab6a",
   "metadata": {},
   "outputs": [
    {
     "data": {
      "text/plain": [
       "DecisionTreeRegressor(max_depth=1, random_state=1)"
      ]
     },
     "execution_count": 15,
     "metadata": {},
     "output_type": "execute_result"
    }
   ],
   "source": [
    "# Train decision tree regressor\n",
    "dtr = DecisionTreeRegressor(max_depth=1, random_state=seed)\n",
    "\n",
    "dtr.fit(X_train, y_train)"
   ]
  },
  {
   "cell_type": "code",
   "execution_count": 48,
   "id": "f8c36222",
   "metadata": {},
   "outputs": [
    {
     "name": "stdout",
     "output_type": "stream",
     "text": [
      "|--- ocean_proximity=INLAND <= 0.50\n",
      "|   |--- value: [12.31]\n",
      "|--- ocean_proximity=INLAND >  0.50\n",
      "|   |--- value: [11.61]\n",
      "\n"
     ]
    }
   ],
   "source": [
    "features = list(dv.get_feature_names_out())\n",
    "print(export_text(dtr, feature_names =features))"
   ]
  },
  {
   "cell_type": "markdown",
   "id": "aee420ac",
   "metadata": {},
   "source": [
    "The feature 'ocean_proximity=INLAND' is used for splitting the data."
   ]
  },
  {
   "cell_type": "markdown",
   "id": "4cb20532",
   "metadata": {},
   "source": [
    "## Question 2\n",
    "\n",
    "Train a random forest model with these parameters:\n",
    "\n",
    "n_estimators=10\n",
    "\n",
    "random_state=1\n",
    "\n",
    "n_jobs=-1 (optional - to make training faster)\n",
    "\n",
    "What's the RMSE of this model on validation?"
   ]
  },
  {
   "cell_type": "code",
   "execution_count": 11,
   "id": "7b76fad8",
   "metadata": {},
   "outputs": [
    {
     "data": {
      "text/plain": [
       "'The RMSE of the radom forest model on validation is: '"
      ]
     },
     "metadata": {},
     "output_type": "display_data"
    },
    {
     "data": {
      "text/plain": [
       "0.25"
      ]
     },
     "metadata": {},
     "output_type": "display_data"
    }
   ],
   "source": [
    "rf = RandomForestRegressor(n_estimators=10, random_state=seed, n_jobs=-1)\n",
    "\n",
    "rf.fit(X_train, y_train)\n",
    "\n",
    "y_pred = rf.predict(X_val)\n",
    "mse_rf = mse(y_val, y_pred)\n",
    "rmse_rf = mse_rf **(1/2)\n",
    "\n",
    "display('The RMSE of the radom forest model on validation is: ', round(rmse_rf,2))\n"
   ]
  },
  {
   "cell_type": "markdown",
   "id": "a0d2091a",
   "metadata": {},
   "source": [
    "## Question 3\n",
    "\n",
    "Now let's experiment with the n_estimators parameter\n",
    "\n",
    "Try different values of this parameter from 10 to 200 with step 10.\n",
    "\n",
    "Set random_state to 1.\n",
    "\n",
    "Evaluate the model on the validation dataset.\n",
    "\n",
    "After which value of n_estimators does RMSE stop improving?"
   ]
  },
  {
   "cell_type": "code",
   "execution_count": 12,
   "id": "4a7120bb",
   "metadata": {},
   "outputs": [
    {
     "data": {
      "text/plain": [
       "[(10, 0.246),\n",
       " (20, 0.239),\n",
       " (30, 0.236),\n",
       " (40, 0.235),\n",
       " (50, 0.233),\n",
       " (60, 0.233),\n",
       " (70, 0.232),\n",
       " (80, 0.233),\n",
       " (90, 0.232),\n",
       " (100, 0.232),\n",
       " (110, 0.232),\n",
       " (120, 0.232),\n",
       " (130, 0.232),\n",
       " (140, 0.232),\n",
       " (150, 0.232),\n",
       " (160, 0.232),\n",
       " (170, 0.232),\n",
       " (180, 0.232),\n",
       " (190, 0.232),\n",
       " (200, 0.232)]"
      ]
     },
     "metadata": {},
     "output_type": "display_data"
    }
   ],
   "source": [
    "# make array\n",
    "RMSE_n = []\n",
    "n_array = np.arange(10, 210, step=10)\n",
    "\n",
    "# try different n_estimators\n",
    "for n in n_array:\n",
    "    rf = RandomForestRegressor(n_estimators=n, random_state=seed, n_jobs=-1)\n",
    "    rf.fit(X_train, y_train)\n",
    "    y_pred = rf.predict(X_val)\n",
    "    rmse_rf = round(mse(y_val, y_pred) ** (1/2),3)\n",
    "    RMSE_n.append((n, rmse_rf))\n",
    "    \n",
    "display(RMSE_n)"
   ]
  },
  {
   "cell_type": "markdown",
   "id": "282ffcc4",
   "metadata": {},
   "source": [
    "RMSE stops improving after n_estimator = 50"
   ]
  },
  {
   "cell_type": "markdown",
   "id": "9b75657c",
   "metadata": {},
   "source": [
    "## Question 4\n",
    "\n",
    "Let's select the best max_depth:\n",
    "\n",
    "Try different values of max_depth: [10, 15, 20, 25]\n",
    "\n",
    "For each of these values, try different values of n_estimators from 10 till 200 (with step 10)\n",
    "\n",
    "Fix the random seed: random_state=1\n",
    "\n",
    "What's the best max_depth?"
   ]
  },
  {
   "cell_type": "code",
   "execution_count": 14,
   "id": "c3dafc90",
   "metadata": {},
   "outputs": [
    {
     "data": {
      "text/plain": [
       "[(10, 10, 0.255),\n",
       " (20, 10, 0.253),\n",
       " (30, 10, 0.252),\n",
       " (40, 10, 0.251),\n",
       " (50, 10, 0.25),\n",
       " (60, 10, 0.25),\n",
       " (70, 10, 0.25),\n",
       " (80, 10, 0.25),\n",
       " (90, 10, 0.249),\n",
       " (100, 10, 0.249),\n",
       " (110, 10, 0.249),\n",
       " (120, 10, 0.249),\n",
       " (130, 10, 0.249),\n",
       " (140, 10, 0.249),\n",
       " (150, 10, 0.249),\n",
       " (160, 10, 0.249),\n",
       " (170, 10, 0.249),\n",
       " (180, 10, 0.249),\n",
       " (190, 10, 0.249),\n",
       " (200, 10, 0.249),\n",
       " (10, 15, 0.245),\n",
       " (20, 15, 0.239),\n",
       " (30, 15, 0.237),\n",
       " (40, 15, 0.236),\n",
       " (50, 15, 0.235),\n",
       " (60, 15, 0.235),\n",
       " (70, 15, 0.234),\n",
       " (80, 15, 0.234),\n",
       " (90, 15, 0.234),\n",
       " (100, 15, 0.234),\n",
       " (110, 15, 0.233),\n",
       " (120, 15, 0.233),\n",
       " (130, 15, 0.233),\n",
       " (140, 15, 0.233),\n",
       " (150, 15, 0.233),\n",
       " (160, 15, 0.233),\n",
       " (170, 15, 0.233),\n",
       " (180, 15, 0.233),\n",
       " (190, 15, 0.233),\n",
       " (200, 15, 0.233),\n",
       " (10, 20, 0.246),\n",
       " (20, 20, 0.239),\n",
       " (30, 20, 0.236),\n",
       " (40, 20, 0.235),\n",
       " (50, 20, 0.233),\n",
       " (60, 20, 0.233),\n",
       " (70, 20, 0.233),\n",
       " (80, 20, 0.233),\n",
       " (90, 20, 0.233),\n",
       " (100, 20, 0.232),\n",
       " (110, 20, 0.232),\n",
       " (120, 20, 0.232),\n",
       " (130, 20, 0.232),\n",
       " (140, 20, 0.232),\n",
       " (150, 20, 0.232),\n",
       " (160, 20, 0.232),\n",
       " (170, 20, 0.232),\n",
       " (180, 20, 0.232),\n",
       " (190, 20, 0.232),\n",
       " (200, 20, 0.232),\n",
       " (10, 25, 0.246),\n",
       " (20, 25, 0.239),\n",
       " (30, 25, 0.235),\n",
       " (40, 25, 0.234),\n",
       " (50, 25, 0.233),\n",
       " (60, 25, 0.233),\n",
       " (70, 25, 0.232),\n",
       " (80, 25, 0.232),\n",
       " (90, 25, 0.232),\n",
       " (100, 25, 0.232),\n",
       " (110, 25, 0.231),\n",
       " (120, 25, 0.231),\n",
       " (130, 25, 0.232),\n",
       " (140, 25, 0.231),\n",
       " (150, 25, 0.232),\n",
       " (160, 25, 0.231),\n",
       " (170, 25, 0.231),\n",
       " (180, 25, 0.232),\n",
       " (190, 25, 0.232),\n",
       " (200, 25, 0.231)]"
      ]
     },
     "metadata": {},
     "output_type": "display_data"
    }
   ],
   "source": [
    "# make array\n",
    "RMSE_dn = []\n",
    "\n",
    "\n",
    "# try different values of max_depth\n",
    "for md in [10, 15, 20, 25]:\n",
    "    # try different n_estimators\n",
    "    for n in n_array:\n",
    "        rf = RandomForestRegressor(n_estimators=n, max_depth=md, random_state=seed, n_jobs=-1)\n",
    "        rf.fit(X_train, y_train)\n",
    "        y_pred = rf.predict(X_val)\n",
    "        rmse_rf = round(mse(y_val, y_pred) ** (1/2),3)\n",
    "        RMSE_dn.append((n, md, rmse_rf))\n",
    "    \n",
    "display(RMSE_dn)"
   ]
  },
  {
   "cell_type": "code",
   "execution_count": 35,
   "id": "91d018b6",
   "metadata": {},
   "outputs": [
    {
     "data": {
      "image/png": "[encoded data removed]",
      "text/plain": [
       "<Figure size 432x288 with 1 Axes>"
      ]
     },
     "metadata": {
      "needs_background": "light"
     },
     "output_type": "display_data"
    }
   ],
   "source": [
    "columns = [ 'n_estimators','max_depth', 'rmse']\n",
    "df_scores = pd.DataFrame(RMSE_dn, columns=columns)\n",
    "for d in [10, 15,20, 25]:\n",
    "    df_subset = df_scores[df_scores.max_depth == d]\n",
    "    \n",
    "    plt.plot(df_subset.n_estimators, df_subset.rmse,\n",
    "             label='max_depth=%d' % d)\n",
    "\n",
    "plt.legend();"
   ]
  },
  {
   "cell_type": "markdown",
   "id": "316c11ff",
   "metadata": {},
   "source": [
    "The best max_depth is 25."
   ]
  },
  {
   "cell_type": "markdown",
   "id": "3837ace9",
   "metadata": {},
   "source": [
    "## Question 5\n",
    "\n",
    "We can extract feature importance information from tree-based models.\n",
    "\n",
    "At each step of the decision tree learning algorith, it finds the best split. When doing it, we can calculate \"gain\" - the reduction in impurity before and after the split. This gain is quite useful in understanding what are the imporatant features for tree-based models.\n",
    "\n",
    "In Scikit-Learn, tree-based models contain this information in the feature_importances_ field.\n",
    "\n",
    "For this homework question, we'll find the most important feature:\n",
    "\n",
    "Train the model with these parametes:\n",
    "- n_estimators=10,\n",
    "- nmax_depth=20,\n",
    "- random_state=1,\n",
    "- n_jobs=-1 (optional)\n",
    "\n",
    "Get the feature importance information from this model\n",
    "\n",
    "What's the most important feature?"
   ]
  },
  {
   "cell_type": "code",
   "execution_count": 50,
   "id": "a012ea52",
   "metadata": {},
   "outputs": [
    {
     "data": {
      "image/png": "[encoded data removed]",
      "text/plain": [
       "<Figure size 432x288 with 1 Axes>"
      ]
     },
     "metadata": {
      "needs_background": "light"
     },
     "output_type": "display_data"
    }
   ],
   "source": [
    "# train model with given parameters\n",
    "rf = RandomForestRegressor(n_estimators=10, max_depth=20,random_state=seed, n_jobs=-1)\n",
    "rf.fit(X_train, y_train)\n",
    "\n",
    "# get features_importance\n",
    "importance_rf = pd.Series(rf.feature_importances_, features)\n",
    "sorted_importance_rf = importance_rf.sort_values()\n",
    "sorted_importance_rf.plot(kind='barh');\n"
   ]
  },
  {
   "cell_type": "markdown",
   "id": "6eaa2c75",
   "metadata": {},
   "source": [
    "The most important feature is median_income.\n"
   ]
  },
  {
   "cell_type": "markdown",
   "id": "3240ee39",
   "metadata": {},
   "source": [
    "## Question 6\n",
    "Now let's train an XGBoost model! For this question, we'll tune the eta parameter:\n",
    "\n",
    "Install XGBoost\n",
    "\n",
    "Create DMatrix for train and validation\n",
    "\n",
    "Create a watchlist\n",
    "\n",
    "Train a model with these parameters for 100 rounds:\n",
    "\n",
    "xgb_params = {\n",
    "    'eta': 0.3, \n",
    "    'max_depth': 6,\n",
    "    'min_child_weight': 1,\n",
    "    \n",
    "    'objective': 'reg:squarederror',\n",
    "    'nthread': 8,\n",
    "    \n",
    "    'seed': 1,\n",
    "    'verbosity': 1,\n",
    "}\n",
    "\n",
    "Now change eta from 0.3 to 0.1.\n",
    "\n",
    "Which eta leads to the best RMSE score on the validation dataset?"
   ]
  },
  {
   "cell_type": "code",
   "execution_count": 51,
   "id": "84d9fb32",
   "metadata": {},
   "outputs": [
    {
     "name": "stdout",
     "output_type": "stream",
     "text": [
      "Collecting xgboost\n",
      "  Downloading xgboost-1.6.2-py3-none-win_amd64.whl (125.4 MB)\n",
      "Requirement already satisfied: scipy in c:\\users\\loren\\anaconda3\\lib\\site-packages (from xgboost) (1.7.1)\n",
      "Requirement already satisfied: numpy in c:\\users\\loren\\anaconda3\\lib\\site-packages (from xgboost) (1.20.3)\n",
      "Installing collected packages: xgboost\n",
      "Successfully installed xgboost-1.6.2\n"
     ]
    }
   ],
   "source": [
    "# !pip install xgboost"
   ]
  },
  {
   "cell_type": "code",
   "execution_count": 64,
   "id": "b00348c9",
   "metadata": {},
   "outputs": [
    {
     "data": {
      "text/plain": [
       "['households',\n",
       " 'housing_median_age',\n",
       " 'latitude',\n",
       " 'longitude',\n",
       " 'median_income',\n",
       " 'ocean_proximity=1H OCEAN',\n",
       " 'ocean_proximity=INLAND',\n",
       " 'ocean_proximity=ISLAND',\n",
       " 'ocean_proximity=NEAR BAY',\n",
       " 'ocean_proximity=NEAR OCEAN',\n",
       " 'population',\n",
       " 'total_bedrooms',\n",
       " 'total_rooms']"
      ]
     },
     "metadata": {},
     "output_type": "display_data"
    }
   ],
   "source": [
    "# Preparate features names\n",
    "features_new = [str.replace('<','') for str in features]\n",
    "display(features_new)"
   ]
  },
  {
   "cell_type": "code",
   "execution_count": 70,
   "id": "e7ae6d9c",
   "metadata": {},
   "outputs": [
    {
     "name": "stdout",
     "output_type": "stream",
     "text": [
      "[0]\ttrain-rmse:8.12733\tval-rmse:8.13245\n",
      "[1]\ttrain-rmse:5.69586\tval-rmse:5.70070\n",
      "[2]\ttrain-rmse:3.99540\tval-rmse:4.00041\n",
      "[3]\ttrain-rmse:2.80712\tval-rmse:2.81079\n",
      "[4]\ttrain-rmse:1.97834\tval-rmse:1.98175\n",
      "[5]\ttrain-rmse:1.40218\tval-rmse:1.40741\n",
      "[6]\ttrain-rmse:1.00099\tval-rmse:1.00700\n",
      "[7]\ttrain-rmse:0.72751\tval-rmse:0.73439\n",
      "[8]\ttrain-rmse:0.54190\tval-rmse:0.55047\n",
      "[9]\ttrain-rmse:0.42167\tval-rmse:0.43233\n",
      "[10]\ttrain-rmse:0.34481\tval-rmse:0.35782\n",
      "[11]\ttrain-rmse:0.29835\tval-rmse:0.31360\n",
      "[12]\ttrain-rmse:0.27095\tval-rmse:0.28865\n",
      "[13]\ttrain-rmse:0.25268\tval-rmse:0.27334\n",
      "[14]\ttrain-rmse:0.24295\tval-rmse:0.26605\n",
      "[15]\ttrain-rmse:0.23555\tval-rmse:0.26044\n",
      "[16]\ttrain-rmse:0.22630\tval-rmse:0.25229\n",
      "[17]\ttrain-rmse:0.22233\tval-rmse:0.24902\n",
      "[18]\ttrain-rmse:0.22029\tval-rmse:0.24826\n",
      "[19]\ttrain-rmse:0.21791\tval-rmse:0.24696\n",
      "[20]\ttrain-rmse:0.21580\tval-rmse:0.24624\n",
      "[21]\ttrain-rmse:0.21160\tval-rmse:0.24334\n",
      "[22]\ttrain-rmse:0.20975\tval-rmse:0.24245\n",
      "[23]\ttrain-rmse:0.20904\tval-rmse:0.24269\n",
      "[24]\ttrain-rmse:0.20703\tval-rmse:0.24252\n",
      "[25]\ttrain-rmse:0.20395\tval-rmse:0.24099\n",
      "[26]\ttrain-rmse:0.20188\tval-rmse:0.24019\n",
      "[27]\ttrain-rmse:0.20122\tval-rmse:0.24010\n",
      "[28]\ttrain-rmse:0.19810\tval-rmse:0.23843\n",
      "[29]\ttrain-rmse:0.19540\tval-rmse:0.23766\n",
      "[30]\ttrain-rmse:0.19440\tval-rmse:0.23741\n",
      "[31]\ttrain-rmse:0.19285\tval-rmse:0.23709\n",
      "[32]\ttrain-rmse:0.19126\tval-rmse:0.23686\n",
      "[33]\ttrain-rmse:0.18939\tval-rmse:0.23653\n",
      "[34]\ttrain-rmse:0.18742\tval-rmse:0.23605\n",
      "[35]\ttrain-rmse:0.18637\tval-rmse:0.23562\n",
      "[36]\ttrain-rmse:0.18486\tval-rmse:0.23539\n",
      "[37]\ttrain-rmse:0.18363\tval-rmse:0.23506\n",
      "[38]\ttrain-rmse:0.18274\tval-rmse:0.23495\n",
      "[39]\ttrain-rmse:0.18024\tval-rmse:0.23425\n",
      "[40]\ttrain-rmse:0.17983\tval-rmse:0.23419\n",
      "[41]\ttrain-rmse:0.17878\tval-rmse:0.23400\n",
      "[42]\ttrain-rmse:0.17782\tval-rmse:0.23384\n",
      "[43]\ttrain-rmse:0.17662\tval-rmse:0.23343\n",
      "[44]\ttrain-rmse:0.17568\tval-rmse:0.23317\n",
      "[45]\ttrain-rmse:0.17468\tval-rmse:0.23279\n",
      "[46]\ttrain-rmse:0.17304\tval-rmse:0.23205\n",
      "[47]\ttrain-rmse:0.17244\tval-rmse:0.23171\n",
      "[48]\ttrain-rmse:0.17139\tval-rmse:0.23142\n",
      "[49]\ttrain-rmse:0.17011\tval-rmse:0.23124\n",
      "[50]\ttrain-rmse:0.16934\tval-rmse:0.23097\n",
      "[51]\ttrain-rmse:0.16838\tval-rmse:0.23106\n",
      "[52]\ttrain-rmse:0.16788\tval-rmse:0.23074\n",
      "[53]\ttrain-rmse:0.16712\tval-rmse:0.23072\n",
      "[54]\ttrain-rmse:0.16616\tval-rmse:0.23030\n",
      "[55]\ttrain-rmse:0.16546\tval-rmse:0.23039\n",
      "[56]\ttrain-rmse:0.16433\tval-rmse:0.23006\n",
      "[57]\ttrain-rmse:0.16357\tval-rmse:0.23002\n",
      "[58]\ttrain-rmse:0.16309\tval-rmse:0.22987\n",
      "[59]\ttrain-rmse:0.16269\tval-rmse:0.22980\n",
      "[60]\ttrain-rmse:0.16177\tval-rmse:0.22950\n",
      "[61]\ttrain-rmse:0.16158\tval-rmse:0.22952\n",
      "[62]\ttrain-rmse:0.16081\tval-rmse:0.22929\n",
      "[63]\ttrain-rmse:0.15998\tval-rmse:0.22882\n",
      "[64]\ttrain-rmse:0.15854\tval-rmse:0.22878\n",
      "[65]\ttrain-rmse:0.15762\tval-rmse:0.22857\n",
      "[66]\ttrain-rmse:0.15666\tval-rmse:0.22862\n",
      "[67]\ttrain-rmse:0.15518\tval-rmse:0.22827\n",
      "[68]\ttrain-rmse:0.15446\tval-rmse:0.22825\n",
      "[69]\ttrain-rmse:0.15349\tval-rmse:0.22788\n",
      "[70]\ttrain-rmse:0.15323\tval-rmse:0.22787\n",
      "[71]\ttrain-rmse:0.15233\tval-rmse:0.22774\n",
      "[72]\ttrain-rmse:0.15212\tval-rmse:0.22773\n",
      "[73]\ttrain-rmse:0.15129\tval-rmse:0.22782\n",
      "[74]\ttrain-rmse:0.15075\tval-rmse:0.22771\n",
      "[75]\ttrain-rmse:0.15010\tval-rmse:0.22755\n",
      "[76]\ttrain-rmse:0.14872\tval-rmse:0.22705\n",
      "[77]\ttrain-rmse:0.14798\tval-rmse:0.22675\n",
      "[78]\ttrain-rmse:0.14728\tval-rmse:0.22669\n",
      "[79]\ttrain-rmse:0.14632\tval-rmse:0.22634\n",
      "[80]\ttrain-rmse:0.14564\tval-rmse:0.22611\n",
      "[81]\ttrain-rmse:0.14461\tval-rmse:0.22602\n",
      "[82]\ttrain-rmse:0.14386\tval-rmse:0.22595\n",
      "[83]\ttrain-rmse:0.14298\tval-rmse:0.22589\n",
      "[84]\ttrain-rmse:0.14244\tval-rmse:0.22598\n",
      "[85]\ttrain-rmse:0.14166\tval-rmse:0.22579\n",
      "[86]\ttrain-rmse:0.14128\tval-rmse:0.22582\n",
      "[87]\ttrain-rmse:0.14040\tval-rmse:0.22647\n",
      "[88]\ttrain-rmse:0.13997\tval-rmse:0.22641\n",
      "[89]\ttrain-rmse:0.13952\tval-rmse:0.22647\n",
      "[90]\ttrain-rmse:0.13892\tval-rmse:0.22628\n",
      "[91]\ttrain-rmse:0.13847\tval-rmse:0.22610\n",
      "[92]\ttrain-rmse:0.13794\tval-rmse:0.22619\n",
      "[93]\ttrain-rmse:0.13696\tval-rmse:0.22648\n",
      "[94]\ttrain-rmse:0.13626\tval-rmse:0.22643\n",
      "[95]\ttrain-rmse:0.13553\tval-rmse:0.22630\n",
      "[96]\ttrain-rmse:0.13458\tval-rmse:0.22620\n",
      "[97]\ttrain-rmse:0.13372\tval-rmse:0.22608\n",
      "[98]\ttrain-rmse:0.13344\tval-rmse:0.22611\n",
      "[99]\ttrain-rmse:0.13299\tval-rmse:0.22610\n"
     ]
    },
    {
     "data": {
      "text/plain": [
       "'rmse_xgb with eta = 0.3:'"
      ]
     },
     "metadata": {},
     "output_type": "display_data"
    },
    {
     "data": {
      "text/plain": [
       "0.226"
      ]
     },
     "metadata": {},
     "output_type": "display_data"
    }
   ],
   "source": [
    "# Create DMatrix\n",
    "dtrain = xgb.DMatrix(X_train, label = y_train, feature_names = features_new)\n",
    "dval = xgb.DMatrix(X_val, label = y_val, feature_names = features_new)\n",
    "\n",
    "# Create watchlist\n",
    "watchlist = [(dtrain, 'train'), (dval, 'val')]\n",
    "\n",
    "#train a model\n",
    "xgb_params = {'eta' : 0.3, 'max_depth':6, 'min_child_weight': 1, 'eval_metric': 'rmse',\n",
    "            'objective': 'reg:squarederror', 'nthread': 8, 'seed': seed, 'verbosity':1}\n",
    "              \n",
    "model = xgb.train(xgb_params, dtrain, evals=watchlist, num_boost_round=100)\n",
    "              \n",
    "# predict          \n",
    "y_pred = model.predict(dval)\n",
    "# Calculate rmse\n",
    "rmse_xgb = round(mse(y_val, y_pred) ** (1/2),3)\n",
    "display('rmse_xgb with eta = 0.3:', rmse_xgb)"
   ]
  },
  {
   "cell_type": "code",
   "execution_count": 71,
   "id": "56793bfa",
   "metadata": {},
   "outputs": [
    {
     "name": "stdout",
     "output_type": "stream",
     "text": [
      "[0]\ttrain-rmse:10.44372\tval-rmse:10.44938\n",
      "[1]\ttrain-rmse:9.40118\tval-rmse:9.40684\n",
      "[2]\ttrain-rmse:8.46290\tval-rmse:8.46831\n",
      "[3]\ttrain-rmse:7.61859\tval-rmse:7.62391\n",
      "[4]\ttrain-rmse:6.85878\tval-rmse:6.86368\n",
      "[5]\ttrain-rmse:6.17513\tval-rmse:6.17987\n",
      "[6]\ttrain-rmse:5.55994\tval-rmse:5.56437\n",
      "[7]\ttrain-rmse:5.00643\tval-rmse:5.01061\n",
      "[8]\ttrain-rmse:4.50846\tval-rmse:4.51264\n",
      "[9]\ttrain-rmse:4.06043\tval-rmse:4.06461\n",
      "[10]\ttrain-rmse:3.65741\tval-rmse:3.66135\n",
      "[11]\ttrain-rmse:3.29492\tval-rmse:3.29877\n",
      "[12]\ttrain-rmse:2.96894\tval-rmse:2.97284\n",
      "[13]\ttrain-rmse:2.67573\tval-rmse:2.67979\n",
      "[14]\ttrain-rmse:2.41195\tval-rmse:2.41587\n",
      "[15]\ttrain-rmse:2.17500\tval-rmse:2.17928\n",
      "[16]\ttrain-rmse:1.96214\tval-rmse:1.96662\n",
      "[17]\ttrain-rmse:1.77065\tval-rmse:1.77536\n",
      "[18]\ttrain-rmse:1.59880\tval-rmse:1.60396\n",
      "[19]\ttrain-rmse:1.44376\tval-rmse:1.44910\n",
      "[20]\ttrain-rmse:1.30499\tval-rmse:1.31054\n",
      "[21]\ttrain-rmse:1.18080\tval-rmse:1.18646\n",
      "[22]\ttrain-rmse:1.06879\tval-rmse:1.07469\n",
      "[23]\ttrain-rmse:0.96912\tval-rmse:0.97546\n",
      "[24]\ttrain-rmse:0.87914\tval-rmse:0.88576\n",
      "[25]\ttrain-rmse:0.79933\tval-rmse:0.80657\n",
      "[26]\ttrain-rmse:0.72790\tval-rmse:0.73566\n",
      "[27]\ttrain-rmse:0.66451\tval-rmse:0.67282\n",
      "[28]\ttrain-rmse:0.60723\tval-rmse:0.61618\n",
      "[29]\ttrain-rmse:0.55636\tval-rmse:0.56601\n",
      "[30]\ttrain-rmse:0.51144\tval-rmse:0.52189\n",
      "[31]\ttrain-rmse:0.47189\tval-rmse:0.48338\n",
      "[32]\ttrain-rmse:0.43732\tval-rmse:0.44960\n",
      "[33]\ttrain-rmse:0.40669\tval-rmse:0.41992\n",
      "[34]\ttrain-rmse:0.38017\tval-rmse:0.39439\n",
      "[35]\ttrain-rmse:0.35700\tval-rmse:0.37264\n",
      "[36]\ttrain-rmse:0.33733\tval-rmse:0.35398\n",
      "[37]\ttrain-rmse:0.31985\tval-rmse:0.33778\n",
      "[38]\ttrain-rmse:0.30449\tval-rmse:0.32340\n",
      "[39]\ttrain-rmse:0.29115\tval-rmse:0.31104\n",
      "[40]\ttrain-rmse:0.27984\tval-rmse:0.30053\n",
      "[41]\ttrain-rmse:0.27067\tval-rmse:0.29195\n",
      "[42]\ttrain-rmse:0.26257\tval-rmse:0.28468\n",
      "[43]\ttrain-rmse:0.25532\tval-rmse:0.27832\n",
      "[44]\ttrain-rmse:0.24897\tval-rmse:0.27269\n",
      "[45]\ttrain-rmse:0.24350\tval-rmse:0.26829\n",
      "[46]\ttrain-rmse:0.23912\tval-rmse:0.26437\n",
      "[47]\ttrain-rmse:0.23532\tval-rmse:0.26091\n",
      "[48]\ttrain-rmse:0.23170\tval-rmse:0.25803\n",
      "[49]\ttrain-rmse:0.22852\tval-rmse:0.25521\n",
      "[50]\ttrain-rmse:0.22614\tval-rmse:0.25334\n",
      "[51]\ttrain-rmse:0.22366\tval-rmse:0.25115\n",
      "[52]\ttrain-rmse:0.22167\tval-rmse:0.24976\n",
      "[53]\ttrain-rmse:0.22027\tval-rmse:0.24876\n",
      "[54]\ttrain-rmse:0.21843\tval-rmse:0.24751\n",
      "[55]\ttrain-rmse:0.21695\tval-rmse:0.24657\n",
      "[56]\ttrain-rmse:0.21568\tval-rmse:0.24560\n",
      "[57]\ttrain-rmse:0.21454\tval-rmse:0.24480\n",
      "[58]\ttrain-rmse:0.21336\tval-rmse:0.24411\n",
      "[59]\ttrain-rmse:0.21237\tval-rmse:0.24341\n",
      "[60]\ttrain-rmse:0.21035\tval-rmse:0.24189\n",
      "[61]\ttrain-rmse:0.20927\tval-rmse:0.24115\n",
      "[62]\ttrain-rmse:0.20870\tval-rmse:0.24089\n",
      "[63]\ttrain-rmse:0.20760\tval-rmse:0.24046\n",
      "[64]\ttrain-rmse:0.20723\tval-rmse:0.24036\n",
      "[65]\ttrain-rmse:0.20579\tval-rmse:0.23943\n",
      "[66]\ttrain-rmse:0.20510\tval-rmse:0.23908\n",
      "[67]\ttrain-rmse:0.20389\tval-rmse:0.23836\n",
      "[68]\ttrain-rmse:0.20302\tval-rmse:0.23798\n",
      "[69]\ttrain-rmse:0.20189\tval-rmse:0.23725\n",
      "[70]\ttrain-rmse:0.20116\tval-rmse:0.23684\n",
      "[71]\ttrain-rmse:0.20053\tval-rmse:0.23649\n",
      "[72]\ttrain-rmse:0.19928\tval-rmse:0.23587\n",
      "[73]\ttrain-rmse:0.19856\tval-rmse:0.23550\n",
      "[74]\ttrain-rmse:0.19760\tval-rmse:0.23523\n",
      "[75]\ttrain-rmse:0.19680\tval-rmse:0.23507\n",
      "[76]\ttrain-rmse:0.19636\tval-rmse:0.23491\n",
      "[77]\ttrain-rmse:0.19561\tval-rmse:0.23446\n",
      "[78]\ttrain-rmse:0.19482\tval-rmse:0.23427\n",
      "[79]\ttrain-rmse:0.19438\tval-rmse:0.23423\n",
      "[80]\ttrain-rmse:0.19384\tval-rmse:0.23398\n",
      "[81]\ttrain-rmse:0.19334\tval-rmse:0.23392\n",
      "[82]\ttrain-rmse:0.19266\tval-rmse:0.23364\n",
      "[83]\ttrain-rmse:0.19212\tval-rmse:0.23330\n",
      "[84]\ttrain-rmse:0.19129\tval-rmse:0.23289\n",
      "[85]\ttrain-rmse:0.19085\tval-rmse:0.23275\n",
      "[86]\ttrain-rmse:0.19008\tval-rmse:0.23266\n",
      "[87]\ttrain-rmse:0.18941\tval-rmse:0.23230\n",
      "[88]\ttrain-rmse:0.18903\tval-rmse:0.23228\n",
      "[89]\ttrain-rmse:0.18855\tval-rmse:0.23220\n",
      "[90]\ttrain-rmse:0.18794\tval-rmse:0.23206\n",
      "[91]\ttrain-rmse:0.18728\tval-rmse:0.23167\n",
      "[92]\ttrain-rmse:0.18691\tval-rmse:0.23162\n",
      "[93]\ttrain-rmse:0.18620\tval-rmse:0.23117\n",
      "[94]\ttrain-rmse:0.18586\tval-rmse:0.23104\n",
      "[95]\ttrain-rmse:0.18541\tval-rmse:0.23106\n",
      "[96]\ttrain-rmse:0.18470\tval-rmse:0.23089\n",
      "[97]\ttrain-rmse:0.18405\tval-rmse:0.23067\n",
      "[98]\ttrain-rmse:0.18385\tval-rmse:0.23057\n",
      "[99]\ttrain-rmse:0.18329\tval-rmse:0.23054\n"
     ]
    },
    {
     "data": {
      "text/plain": [
       "'rmse_xgb with eta = 0.1:'"
      ]
     },
     "metadata": {},
     "output_type": "display_data"
    },
    {
     "data": {
      "text/plain": [
       "0.231"
      ]
     },
     "metadata": {},
     "output_type": "display_data"
    }
   ],
   "source": [
    "# Do the same with eta = 0.1\n",
    "#train a model\n",
    "xgb_params2 = {'eta' : 0.1, 'max_depth':6, 'min_child_weight': 1, 'eval_metric': 'rmse',\n",
    "            'objective': 'reg:squarederror', 'nthread': 8, 'seed': seed, 'verbosity':1}\n",
    "              \n",
    "model2 = xgb.train(xgb_params2, dtrain, evals=watchlist, num_boost_round=100)\n",
    "              \n",
    "# predict          \n",
    "y_pred2 = model2.predict(dval)\n",
    "# Calculate rmse\n",
    "rmse_xgb2 = round(mse(y_val, y_pred2) ** (1/2),3)\n",
    "display('rmse_xgb with eta = 0.1:', rmse_xgb2)"
   ]
  },
  {
   "cell_type": "markdown",
   "id": "8378f067",
   "metadata": {},
   "source": [
    "eta = 0.3 leads to the best RMSE."
   ]
  }
 ],
 "metadata": {
  "kernelspec": {
   "display_name": "Python 3 (ipykernel)",
   "language": "python",
   "name": "python3"
  },
  "language_info": {
   "codemirror_mode": {
    "name": "ipython",
    "version": 3
   },
   "file_extension": ".py",
   "mimetype": "text/x-python",
   "name": "python",
   "nbconvert_exporter": "python",
   "pygments_lexer": "ipython3",
   "version": "3.9.7"
  }
 },
 "nbformat": 4,
 "nbformat_minor": 5
}
