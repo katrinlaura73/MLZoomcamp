{
 "cells": [
  {
   "cell_type": "markdown",
   "id": "724eefb9",
   "metadata": {},
   "source": [
    "# Homework ML Zoomcamp Week 3"
   ]
  },
  {
   "cell_type": "markdown",
   "id": "f4ce8bdb",
   "metadata": {},
   "source": [
    "## Dataset\n",
    "\n",
    "California Housing Prices data from Kaggle\n",
    "\n",
    "wget https://raw.githubusercontent.com/alexeygrigorev/datasets/master/housing.csv\n",
    "\n",
    "We'll keep working with the 'median_house_value' variable, and we'll transform it to a classification task."
   ]
  },
  {
   "cell_type": "code",
   "execution_count": 188,
   "id": "99a34653",
   "metadata": {},
   "outputs": [],
   "source": [
    "# Import module\n",
    "import pandas as pd"
   ]
  },
  {
   "cell_type": "code",
   "execution_count": 189,
   "id": "1b7ac2ac",
   "metadata": {},
   "outputs": [
    {
     "data": {
      "text/html": [
       "<div>\n",
       "<style scoped>\n",
       "    .dataframe tbody tr th:only-of-type {\n",
       "        vertical-align: middle;\n",
       "    }\n",
       "\n",
       "    .dataframe tbody tr th {\n",
       "        vertical-align: top;\n",
       "    }\n",
       "\n",
       "    .dataframe thead th {\n",
       "        text-align: right;\n",
       "    }\n",
       "</style>\n",
       "<table border=\"1\" class=\"dataframe\">\n",
       "  <thead>\n",
       "    <tr style=\"text-align: right;\">\n",
       "      <th></th>\n",
       "      <th>0</th>\n",
       "      <th>1</th>\n",
       "      <th>2</th>\n",
       "      <th>3</th>\n",
       "      <th>4</th>\n",
       "    </tr>\n",
       "  </thead>\n",
       "  <tbody>\n",
       "    <tr>\n",
       "      <th>longitude</th>\n",
       "      <td>-122.23</td>\n",
       "      <td>-122.22</td>\n",
       "      <td>-122.24</td>\n",
       "      <td>-122.25</td>\n",
       "      <td>-122.25</td>\n",
       "    </tr>\n",
       "    <tr>\n",
       "      <th>latitude</th>\n",
       "      <td>37.88</td>\n",
       "      <td>37.86</td>\n",
       "      <td>37.85</td>\n",
       "      <td>37.85</td>\n",
       "      <td>37.85</td>\n",
       "    </tr>\n",
       "    <tr>\n",
       "      <th>housing_median_age</th>\n",
       "      <td>41.0</td>\n",
       "      <td>21.0</td>\n",
       "      <td>52.0</td>\n",
       "      <td>52.0</td>\n",
       "      <td>52.0</td>\n",
       "    </tr>\n",
       "    <tr>\n",
       "      <th>total_rooms</th>\n",
       "      <td>880.0</td>\n",
       "      <td>7099.0</td>\n",
       "      <td>1467.0</td>\n",
       "      <td>1274.0</td>\n",
       "      <td>1627.0</td>\n",
       "    </tr>\n",
       "    <tr>\n",
       "      <th>total_bedrooms</th>\n",
       "      <td>129.0</td>\n",
       "      <td>1106.0</td>\n",
       "      <td>190.0</td>\n",
       "      <td>235.0</td>\n",
       "      <td>280.0</td>\n",
       "    </tr>\n",
       "    <tr>\n",
       "      <th>population</th>\n",
       "      <td>322.0</td>\n",
       "      <td>2401.0</td>\n",
       "      <td>496.0</td>\n",
       "      <td>558.0</td>\n",
       "      <td>565.0</td>\n",
       "    </tr>\n",
       "    <tr>\n",
       "      <th>households</th>\n",
       "      <td>126.0</td>\n",
       "      <td>1138.0</td>\n",
       "      <td>177.0</td>\n",
       "      <td>219.0</td>\n",
       "      <td>259.0</td>\n",
       "    </tr>\n",
       "    <tr>\n",
       "      <th>median_income</th>\n",
       "      <td>8.3252</td>\n",
       "      <td>8.3014</td>\n",
       "      <td>7.2574</td>\n",
       "      <td>5.6431</td>\n",
       "      <td>3.8462</td>\n",
       "    </tr>\n",
       "    <tr>\n",
       "      <th>median_house_value</th>\n",
       "      <td>452600.0</td>\n",
       "      <td>358500.0</td>\n",
       "      <td>352100.0</td>\n",
       "      <td>341300.0</td>\n",
       "      <td>342200.0</td>\n",
       "    </tr>\n",
       "    <tr>\n",
       "      <th>ocean_proximity</th>\n",
       "      <td>NEAR BAY</td>\n",
       "      <td>NEAR BAY</td>\n",
       "      <td>NEAR BAY</td>\n",
       "      <td>NEAR BAY</td>\n",
       "      <td>NEAR BAY</td>\n",
       "    </tr>\n",
       "  </tbody>\n",
       "</table>\n",
       "</div>"
      ],
      "text/plain": [
       "                           0         1         2         3         4\n",
       "longitude            -122.23   -122.22   -122.24   -122.25   -122.25\n",
       "latitude               37.88     37.86     37.85     37.85     37.85\n",
       "housing_median_age      41.0      21.0      52.0      52.0      52.0\n",
       "total_rooms            880.0    7099.0    1467.0    1274.0    1627.0\n",
       "total_bedrooms         129.0    1106.0     190.0     235.0     280.0\n",
       "population             322.0    2401.0     496.0     558.0     565.0\n",
       "households             126.0    1138.0     177.0     219.0     259.0\n",
       "median_income         8.3252    8.3014    7.2574    5.6431    3.8462\n",
       "median_house_value  452600.0  358500.0  352100.0  341300.0  342200.0\n",
       "ocean_proximity     NEAR BAY  NEAR BAY  NEAR BAY  NEAR BAY  NEAR BAY"
      ]
     },
     "metadata": {},
     "output_type": "display_data"
    }
   ],
   "source": [
    "data = 'https://raw.githubusercontent.com/katrinlaura73/MLZoomcamp/main/housing.csv'\n",
    "\n",
    "df = pd.read_csv(data)\n",
    "\n",
    "# check dataload\n",
    "display(df.head().T)"
   ]
  },
  {
   "cell_type": "markdown",
   "id": "ef8effcd",
   "metadata": {},
   "source": [
    "## Feature\n",
    "\n",
    "For the rest of the homework, you'll need to use only these columns:\n",
    "\n",
    "'latitude',\n",
    "'longitude',\n",
    "'housing_median_age',\n",
    "'total_rooms',\n",
    "'total_bedrooms',\n",
    "'population',\n",
    "'households',\n",
    "'median_income',\n",
    "'median_house_value'\n",
    "'ocean_proximity',\n"
   ]
  },
  {
   "cell_type": "code",
   "execution_count": 190,
   "id": "bd94ace2",
   "metadata": {},
   "outputs": [
    {
     "data": {
      "text/plain": [
       "Index(['latitude', 'longitude', 'housing_median_age', 'total_rooms',\n",
       "       'total_bedrooms', 'population', 'households', 'median_income',\n",
       "       'median_house_value', 'ocean_proximity'],\n",
       "      dtype='object')"
      ]
     },
     "execution_count": 190,
     "metadata": {},
     "output_type": "execute_result"
    }
   ],
   "source": [
    "# define cols to use\n",
    "\n",
    "use_cols = ['latitude', 'longitude', 'housing_median_age', 'total_rooms', 'total_bedrooms', 'population', 'households', 'median_income', 'median_house_value', 'ocean_proximity']\n",
    "\n",
    "df = df[use_cols]\n",
    "\n",
    "# Check if df exists only of use_cols\n",
    "df.columns"
   ]
  },
  {
   "cell_type": "markdown",
   "id": "0d5969b7",
   "metadata": {},
   "source": [
    "## Data preparation\n",
    "\n",
    "- Select only the features from above and fill in the missing values with 0.\n",
    "- Create a new column rooms_per_household by dividing the column total_rooms by the column households from dataframe.\n",
    "- Create a new column bedrooms_per_room by dividing the column total_bedrooms by the column total_rooms from dataframe.\n",
    "- Create a new column population_per_household by dividing the column population by the column households from dataframe."
   ]
  },
  {
   "cell_type": "code",
   "execution_count": 191,
   "id": "3c6a8b5d",
   "metadata": {},
   "outputs": [
    {
     "data": {
      "text/plain": [
       "latitude              0\n",
       "longitude             0\n",
       "housing_median_age    0\n",
       "total_rooms           0\n",
       "total_bedrooms        0\n",
       "population            0\n",
       "households            0\n",
       "median_income         0\n",
       "median_house_value    0\n",
       "ocean_proximity       0\n",
       "dtype: int64"
      ]
     },
     "metadata": {},
     "output_type": "display_data"
    }
   ],
   "source": [
    "# Fill missing values\n",
    "df = df.fillna(0)\n",
    "\n",
    "# Check fill\n",
    "display(df.isna().sum())"
   ]
  },
  {
   "cell_type": "code",
   "execution_count": 192,
   "id": "8da31997",
   "metadata": {},
   "outputs": [
    {
     "data": {
      "text/html": [
       "<div>\n",
       "<style scoped>\n",
       "    .dataframe tbody tr th:only-of-type {\n",
       "        vertical-align: middle;\n",
       "    }\n",
       "\n",
       "    .dataframe tbody tr th {\n",
       "        vertical-align: top;\n",
       "    }\n",
       "\n",
       "    .dataframe thead th {\n",
       "        text-align: right;\n",
       "    }\n",
       "</style>\n",
       "<table border=\"1\" class=\"dataframe\">\n",
       "  <thead>\n",
       "    <tr style=\"text-align: right;\">\n",
       "      <th></th>\n",
       "      <th>0</th>\n",
       "      <th>1</th>\n",
       "      <th>2</th>\n",
       "      <th>3</th>\n",
       "      <th>4</th>\n",
       "    </tr>\n",
       "  </thead>\n",
       "  <tbody>\n",
       "    <tr>\n",
       "      <th>latitude</th>\n",
       "      <td>37.88</td>\n",
       "      <td>37.86</td>\n",
       "      <td>37.85</td>\n",
       "      <td>37.85</td>\n",
       "      <td>37.85</td>\n",
       "    </tr>\n",
       "    <tr>\n",
       "      <th>longitude</th>\n",
       "      <td>-122.23</td>\n",
       "      <td>-122.22</td>\n",
       "      <td>-122.24</td>\n",
       "      <td>-122.25</td>\n",
       "      <td>-122.25</td>\n",
       "    </tr>\n",
       "    <tr>\n",
       "      <th>housing_median_age</th>\n",
       "      <td>41.0</td>\n",
       "      <td>21.0</td>\n",
       "      <td>52.0</td>\n",
       "      <td>52.0</td>\n",
       "      <td>52.0</td>\n",
       "    </tr>\n",
       "    <tr>\n",
       "      <th>total_rooms</th>\n",
       "      <td>880.0</td>\n",
       "      <td>7099.0</td>\n",
       "      <td>1467.0</td>\n",
       "      <td>1274.0</td>\n",
       "      <td>1627.0</td>\n",
       "    </tr>\n",
       "    <tr>\n",
       "      <th>total_bedrooms</th>\n",
       "      <td>129.0</td>\n",
       "      <td>1106.0</td>\n",
       "      <td>190.0</td>\n",
       "      <td>235.0</td>\n",
       "      <td>280.0</td>\n",
       "    </tr>\n",
       "    <tr>\n",
       "      <th>population</th>\n",
       "      <td>322.0</td>\n",
       "      <td>2401.0</td>\n",
       "      <td>496.0</td>\n",
       "      <td>558.0</td>\n",
       "      <td>565.0</td>\n",
       "    </tr>\n",
       "    <tr>\n",
       "      <th>households</th>\n",
       "      <td>126.0</td>\n",
       "      <td>1138.0</td>\n",
       "      <td>177.0</td>\n",
       "      <td>219.0</td>\n",
       "      <td>259.0</td>\n",
       "    </tr>\n",
       "    <tr>\n",
       "      <th>median_income</th>\n",
       "      <td>8.3252</td>\n",
       "      <td>8.3014</td>\n",
       "      <td>7.2574</td>\n",
       "      <td>5.6431</td>\n",
       "      <td>3.8462</td>\n",
       "    </tr>\n",
       "    <tr>\n",
       "      <th>median_house_value</th>\n",
       "      <td>452600.0</td>\n",
       "      <td>358500.0</td>\n",
       "      <td>352100.0</td>\n",
       "      <td>341300.0</td>\n",
       "      <td>342200.0</td>\n",
       "    </tr>\n",
       "    <tr>\n",
       "      <th>ocean_proximity</th>\n",
       "      <td>NEAR BAY</td>\n",
       "      <td>NEAR BAY</td>\n",
       "      <td>NEAR BAY</td>\n",
       "      <td>NEAR BAY</td>\n",
       "      <td>NEAR BAY</td>\n",
       "    </tr>\n",
       "    <tr>\n",
       "      <th>rooms_per_household</th>\n",
       "      <td>6.984127</td>\n",
       "      <td>6.238137</td>\n",
       "      <td>8.288136</td>\n",
       "      <td>5.817352</td>\n",
       "      <td>6.281853</td>\n",
       "    </tr>\n",
       "    <tr>\n",
       "      <th>bedrooms_per_room</th>\n",
       "      <td>0.146591</td>\n",
       "      <td>0.155797</td>\n",
       "      <td>0.129516</td>\n",
       "      <td>0.184458</td>\n",
       "      <td>0.172096</td>\n",
       "    </tr>\n",
       "    <tr>\n",
       "      <th>population_per_household</th>\n",
       "      <td>2.555556</td>\n",
       "      <td>2.109842</td>\n",
       "      <td>2.80226</td>\n",
       "      <td>2.547945</td>\n",
       "      <td>2.181467</td>\n",
       "    </tr>\n",
       "  </tbody>\n",
       "</table>\n",
       "</div>"
      ],
      "text/plain": [
       "                                 0         1         2         3         4\n",
       "latitude                     37.88     37.86     37.85     37.85     37.85\n",
       "longitude                  -122.23   -122.22   -122.24   -122.25   -122.25\n",
       "housing_median_age            41.0      21.0      52.0      52.0      52.0\n",
       "total_rooms                  880.0    7099.0    1467.0    1274.0    1627.0\n",
       "total_bedrooms               129.0    1106.0     190.0     235.0     280.0\n",
       "population                   322.0    2401.0     496.0     558.0     565.0\n",
       "households                   126.0    1138.0     177.0     219.0     259.0\n",
       "median_income               8.3252    8.3014    7.2574    5.6431    3.8462\n",
       "median_house_value        452600.0  358500.0  352100.0  341300.0  342200.0\n",
       "ocean_proximity           NEAR BAY  NEAR BAY  NEAR BAY  NEAR BAY  NEAR BAY\n",
       "rooms_per_household       6.984127  6.238137  8.288136  5.817352  6.281853\n",
       "bedrooms_per_room         0.146591  0.155797  0.129516  0.184458  0.172096\n",
       "population_per_household  2.555556  2.109842   2.80226  2.547945  2.181467"
      ]
     },
     "metadata": {},
     "output_type": "display_data"
    }
   ],
   "source": [
    "# Create new columns\n",
    "\n",
    "df['rooms_per_household'] = df['total_rooms'] / df['households']\n",
    "df['bedrooms_per_room'] = df['total_bedrooms'] / df['total_rooms']\n",
    "df['population_per_household'] = df['population']  /df['households']\n",
    "\n",
    "# Check created colulmns\n",
    "display(df.head().T)"
   ]
  },
  {
   "cell_type": "markdown",
   "id": "d2b32061",
   "metadata": {},
   "source": [
    "## Question 1\n",
    "\n",
    "What is the most frequent observation (mode) for the column ocean_proximity?"
   ]
  },
  {
   "cell_type": "code",
   "execution_count": 193,
   "id": "7dacbed2",
   "metadata": {},
   "outputs": [
    {
     "data": {
      "text/plain": [
       "0    <1H OCEAN\n",
       "dtype: object"
      ]
     },
     "metadata": {},
     "output_type": "display_data"
    },
    {
     "data": {
      "text/plain": [
       "<1H OCEAN     9136\n",
       "INLAND        6551\n",
       "NEAR OCEAN    2658\n",
       "NEAR BAY      2290\n",
       "ISLAND           5\n",
       "Name: ocean_proximity, dtype: int64"
      ]
     },
     "metadata": {},
     "output_type": "display_data"
    }
   ],
   "source": [
    "# Calculate mode\n",
    "display(df['ocean_proximity'].mode())\n",
    "\n",
    "# Check mode\n",
    "display(df['ocean_proximity'].value_counts())\n"
   ]
  },
  {
   "cell_type": "markdown",
   "id": "95d49e74",
   "metadata": {},
   "source": [
    "The most frequent observation ist \"<1H OCEAN\"."
   ]
  },
  {
   "cell_type": "markdown",
   "id": "07e92980",
   "metadata": {},
   "source": [
    "## Split the data\n",
    "\n",
    "Split your data in train/val/test sets, with 60%/20%/20% distribution.\n",
    "\n",
    "Use Scikit-Learn for that (the train_test_split function) and set the seed to 42.\n",
    "\n",
    "Make sure that the target value (median_house_value) is not in your dataframe."
   ]
  },
  {
   "cell_type": "code",
   "execution_count": 194,
   "id": "31ee74ba",
   "metadata": {},
   "outputs": [
    {
     "data": {
      "text/plain": [
       "20640"
      ]
     },
     "metadata": {},
     "output_type": "display_data"
    },
    {
     "data": {
      "text/plain": [
       "16512"
      ]
     },
     "metadata": {},
     "output_type": "display_data"
    },
    {
     "data": {
      "text/plain": [
       "4128"
      ]
     },
     "metadata": {},
     "output_type": "display_data"
    }
   ],
   "source": [
    "# import modul\n",
    "from sklearn.model_selection import train_test_split\n",
    "\n",
    "# Set seed\n",
    "seed = 42\n",
    "\n",
    "# Split in train_full and test\n",
    "df_train_full, df_test  = train_test_split(df, test_size = 0.2, random_state=seed)\n",
    "\n",
    "# Check split\n",
    "display(len(df), len(df_train_full), len(df_test))"
   ]
  },
  {
   "cell_type": "code",
   "execution_count": 195,
   "id": "8ea92cfb",
   "metadata": {},
   "outputs": [
    {
     "data": {
      "text/plain": [
       "20640"
      ]
     },
     "metadata": {},
     "output_type": "display_data"
    },
    {
     "data": {
      "text/plain": [
       "16512"
      ]
     },
     "metadata": {},
     "output_type": "display_data"
    },
    {
     "data": {
      "text/plain": [
       "4128"
      ]
     },
     "metadata": {},
     "output_type": "display_data"
    },
    {
     "data": {
      "text/plain": [
       "12384"
      ]
     },
     "metadata": {},
     "output_type": "display_data"
    },
    {
     "data": {
      "text/plain": [
       "4128"
      ]
     },
     "metadata": {},
     "output_type": "display_data"
    }
   ],
   "source": [
    "# Split train_full in train and val\n",
    "df_train, df_val  = train_test_split(df_train_full, test_size = 0.25, random_state=seed)\n",
    "\n",
    "# Check split\n",
    "display(len(df), len(df_train_full), len(df_test), len(df_train), len(df_val))"
   ]
  },
  {
   "cell_type": "code",
   "execution_count": 196,
   "id": "4ef99e0c",
   "metadata": {},
   "outputs": [],
   "source": [
    "# Reset indices\n",
    "df_train = df_train.reset_index(drop=True)\n",
    "df_val = df_val.reset_index(drop=True)\n",
    "df_test = df_test.reset_index(drop=True)\n",
    "\n",
    "# Define targe\n",
    "y_train = df_train['median_house_value'].values\n",
    "y_val = df_val['median_house_value'].values\n",
    "y_test = df_test['median_house_value'].values\n",
    "\n",
    "# Delete target\n",
    "del df_train['median_house_value']\n",
    "del df_val['median_house_value']\n",
    "del df_test['median_house_value']"
   ]
  },
  {
   "cell_type": "markdown",
   "id": "d3d6e98e",
   "metadata": {},
   "source": [
    "## Question 2\n",
    "\n",
    "Create the correlation matrix for the numerical features of your train dataset.\n",
    "In a correlation matrix, you compute the correlation coefficient between every pair of features in the dataset.\n",
    "\n",
    "What are the two features that have the biggest correlation in this dataset?"
   ]
  },
  {
   "cell_type": "code",
   "execution_count": 197,
   "id": "2358cc9d",
   "metadata": {},
   "outputs": [
    {
     "name": "stdout",
     "output_type": "stream",
     "text": [
      "<class 'pandas.core.frame.DataFrame'>\n",
      "RangeIndex: 20640 entries, 0 to 20639\n",
      "Data columns (total 13 columns):\n",
      " #   Column                    Non-Null Count  Dtype  \n",
      "---  ------                    --------------  -----  \n",
      " 0   latitude                  20640 non-null  float64\n",
      " 1   longitude                 20640 non-null  float64\n",
      " 2   housing_median_age        20640 non-null  float64\n",
      " 3   total_rooms               20640 non-null  float64\n",
      " 4   total_bedrooms            20640 non-null  float64\n",
      " 5   population                20640 non-null  float64\n",
      " 6   households                20640 non-null  float64\n",
      " 7   median_income             20640 non-null  float64\n",
      " 8   median_house_value        20640 non-null  float64\n",
      " 9   ocean_proximity           20640 non-null  object \n",
      " 10  rooms_per_household       20640 non-null  float64\n",
      " 11  bedrooms_per_room         20640 non-null  float64\n",
      " 12  population_per_household  20640 non-null  float64\n",
      "dtypes: float64(12), object(1)\n",
      "memory usage: 2.0+ MB\n"
     ]
    },
    {
     "data": {
      "text/plain": [
       "None"
      ]
     },
     "metadata": {},
     "output_type": "display_data"
    }
   ],
   "source": [
    "# Check the numerical columns\n",
    "display(df.info())"
   ]
  },
  {
   "cell_type": "code",
   "execution_count": 198,
   "id": "b124138e",
   "metadata": {},
   "outputs": [
    {
     "data": {
      "image/png": "[encoded data removed]",
      "text/plain": [
       "<Figure size 720x720 with 2 Axes>"
      ]
     },
     "metadata": {
      "needs_background": "light"
     },
     "output_type": "display_data"
    }
   ],
   "source": [
    "# import seaborn\n",
    "import seaborn as sns\n",
    "import matplotlib.pyplot as plt\n",
    "%matplotlib inline\n",
    "\n",
    "# Define numerical columns\n",
    "numerical = ['latitude', 'longitude', 'housing_median_age', 'total_rooms', 'total_bedrooms', 'population', 'households', 'median_income', 'rooms_per_household', 'bedrooms_per_room', 'population_per_household']\n",
    "\n",
    "#plot heatmap\n",
    "fig = plt.figure(figsize=(10,10))\n",
    "sns.heatmap(df_train[numerical].corr().abs(), annot=True);\n",
    "\n"
   ]
  },
  {
   "cell_type": "markdown",
   "id": "b776015e",
   "metadata": {},
   "source": [
    "The two features with the biggest correlation are total_bedrooms and households (0.98)."
   ]
  },
  {
   "cell_type": "markdown",
   "id": "a8dd74f4",
   "metadata": {},
   "source": [
    "## Make median_house_value binary\n",
    "\n",
    "We need to turn the median_house_value variable from numeric into binary.\n",
    "\n",
    "Let's create a variable above_average which is 1 if the median_house_value is above its mean value and 0 otherwise."
   ]
  },
  {
   "cell_type": "code",
   "execution_count": 199,
   "id": "b399b08f",
   "metadata": {},
   "outputs": [
    {
     "data": {
      "text/plain": [
       "206855.81690891474"
      ]
     },
     "metadata": {},
     "output_type": "display_data"
    }
   ],
   "source": [
    "# Calculate mean\n",
    "mean_target = df['median_house_value'].mean()\n",
    "\n",
    "display(mean_target)"
   ]
  },
  {
   "cell_type": "code",
   "execution_count": 200,
   "id": "62b6b769",
   "metadata": {},
   "outputs": [],
   "source": [
    "# import numpy \n",
    "import numpy as np\n",
    "\n",
    "y_train_tf = np.where(y_train>mean_target, 1, 0)\n",
    "y_test_tf = np.where(y_test>mean_target, 1, 0)\n",
    "y_val_tf = np.where(y_val>mean_target, 1, 0)\n"
   ]
  },
  {
   "cell_type": "markdown",
   "id": "b247029f",
   "metadata": {},
   "source": [
    "## Question 3\n",
    "\n",
    "Calculate the mutual information score with the (binarized) price for the categorical variable that we have. Use the training set only.\n",
    "\n",
    "What is the value of mutual information?\n",
    "\n",
    "Round it to 2 decimal digits using round(score, 2)"
   ]
  },
  {
   "cell_type": "code",
   "execution_count": 201,
   "id": "ae3eb453",
   "metadata": {},
   "outputs": [
    {
     "data": {
      "text/plain": [
       "0.10138385763624205"
      ]
     },
     "metadata": {},
     "output_type": "display_data"
    },
    {
     "data": {
      "text/plain": [
       "0.1"
      ]
     },
     "metadata": {},
     "output_type": "display_data"
    }
   ],
   "source": [
    "# Import mutual_info_score\n",
    "from sklearn.metrics import mutual_info_score\n",
    "\n",
    "# Calculate mutual information score\n",
    "mut_info = mutual_info_score(y_train_tf, df_train['ocean_proximity'])\n",
    "\n",
    "display(mut_info, round(mut_info, 2))\n"
   ]
  },
  {
   "cell_type": "markdown",
   "id": "ca33d6a8",
   "metadata": {},
   "source": [
    "The rounded value of mutual information is 0.1."
   ]
  },
  {
   "cell_type": "markdown",
   "id": "b64dce85",
   "metadata": {},
   "source": [
    "## Question 4\n",
    "\n",
    "Now let's train a logistic regression\n",
    "\n",
    "Remember that we have one categorical variable ocean_proximity in the data. Include it using one-hot encoding.\n",
    "Fit the model on the training dataset.\n",
    "\n",
    "To make sure the results are reproducible across different versions of Scikit-Learn, fit the model with these parameters:\n",
    "model = LogisticRegression(solver=\"liblinear\", C=1.0, max_iter=1000, random_state=42)\n",
    "\n",
    "Calculate the accuracy on the validation dataset and round it to 2 decimal digits."
   ]
  },
  {
   "cell_type": "code",
   "execution_count": 202,
   "id": "03383994",
   "metadata": {},
   "outputs": [],
   "source": [
    "# Use OneHotCoding on ocean proximity\n",
    "# import from sklearn\n",
    "from sklearn.feature_extraction import DictVectorizer\n",
    "\n",
    "dv = DictVectorizer(sparse=False)\n",
    "\n",
    "train_dict = df_train[numerical+['ocean_proximity']].to_dict(orient='records')\n",
    "X_train = dv.fit_transform(train_dict)\n",
    "\n",
    "val_dict = df_val[numerical+['ocean_proximity']].to_dict(orient='records')\n",
    "X_val = dv.transform(val_dict)"
   ]
  },
  {
   "cell_type": "code",
   "execution_count": 203,
   "id": "48561cd1",
   "metadata": {},
   "outputs": [],
   "source": [
    "# import model\n",
    "from sklearn.linear_model import LogisticRegression"
   ]
  },
  {
   "cell_type": "code",
   "execution_count": 204,
   "id": "c1c36338",
   "metadata": {},
   "outputs": [
    {
     "data": {
      "text/plain": [
       "LogisticRegression(max_iter=1000, random_state=42, solver='liblinear')"
      ]
     },
     "execution_count": 204,
     "metadata": {},
     "output_type": "execute_result"
    }
   ],
   "source": [
    "# Fit model on training dataset\n",
    "lr = LogisticRegression(solver=\"liblinear\", C=1.0, max_iter=1000, random_state=42)\n",
    "\n",
    "lr.fit(X_train, y_train_tf)"
   ]
  },
  {
   "cell_type": "code",
   "execution_count": 205,
   "id": "1b7e323c",
   "metadata": {},
   "outputs": [
    {
     "data": {
      "text/plain": [
       "array([0.08288731, 0.16716656, 0.95248607, ..., 0.9603688 , 0.85085982,\n",
       "       0.47081585])"
      ]
     },
     "metadata": {},
     "output_type": "display_data"
    }
   ],
   "source": [
    "# Calculate accuracy\n",
    "y_pred = lr.predict_proba(X_val)[:, 1]\n",
    "\n",
    "display(y_pred)"
   ]
  },
  {
   "cell_type": "code",
   "execution_count": 206,
   "id": "76057b16",
   "metadata": {},
   "outputs": [
    {
     "data": {
      "text/plain": [
       "'Accuracy:'"
      ]
     },
     "metadata": {},
     "output_type": "display_data"
    },
    {
     "data": {
      "text/plain": [
       "0.84"
      ]
     },
     "metadata": {},
     "output_type": "display_data"
    }
   ],
   "source": [
    "df_pred = pd.DataFrame()\n",
    "df_pred['probability'] = y_pred\n",
    "\n",
    "# Calculate predicted decisions\n",
    "mean_decision = (y_pred >= 0.5)\n",
    "df_pred['prediction'] = mean_decision.astype(int)\n",
    "\n",
    "# Right decisions\n",
    "df_pred['actual'] = y_val_tf\n",
    "\n",
    "# Calculate correct decisions\n",
    "df_pred['correct'] = df_pred.prediction == df_pred.actual\n",
    "display('Accuracy:', round(df_pred.correct.mean(),2))"
   ]
  },
  {
   "cell_type": "markdown",
   "id": "e66a22ee",
   "metadata": {},
   "source": [
    "## Question 5\n",
    "\n",
    "Let's find the least useful feature using the feature elimination technique.\n",
    "\n",
    "Train a model with all these features (using the same parameters as in Q4).\n",
    "\n",
    "Now exclude each feature from this set and train a model without it. Record the accuracy for each model.\n",
    "\n",
    "For each feature, calculate the difference between the original accuracy and the accuracy without the feature.\n",
    "\n",
    "Which of following feature has the smallest difference?\n",
    "- total_rooms\n",
    "- total_bedrooms\n",
    "- population\n",
    "- households\n",
    "\n",
    "note: the difference doesn't have to be positive"
   ]
  },
  {
   "cell_type": "code",
   "execution_count": 207,
   "id": "d0315223",
   "metadata": {},
   "outputs": [
    {
     "data": {
      "text/plain": [
       "LogisticRegression(max_iter=1000, random_state=42, solver='liblinear')"
      ]
     },
     "execution_count": 207,
     "metadata": {},
     "output_type": "execute_result"
    }
   ],
   "source": [
    "# Define all features\n",
    "col_q5 = ['total_rooms', 'total_bedrooms', 'population', 'households']\n",
    "\n",
    "# Define training and validation set\n",
    "dv = DictVectorizer(sparse=False)\n",
    "train_dict = df_train[col_q5].to_dict(orient='records')\n",
    "X_train_set = dv.fit_transform(train_dict)\n",
    "\n",
    "val_dict = df_val[col_q5].to_dict(orient='records')\n",
    "X_val_set = dv.transform(val_dict)\n",
    "\n",
    "# Fit model on training dataset\n",
    "lr = LogisticRegression(solver=\"liblinear\", C=1.0, max_iter=1000, random_state=42)\n",
    "\n",
    "lr.fit(X_train_set, y_train_tf)\n"
   ]
  },
  {
   "cell_type": "code",
   "execution_count": 208,
   "id": "5fe29433",
   "metadata": {},
   "outputs": [],
   "source": [
    "# Define Function for accuracy\n",
    "\n",
    "def calculate_accuracy(X_val_acc, y_val_acc):\n",
    "    y_pred_acc = lr.predict_proba(X_val_acc)[:, 1]\n",
    "    decision_acc = (y_pred_acc >= 0.5).astype(int)\n",
    "    accuracy = (y_val_acc == decision_acc).mean()\n",
    "    return accuracy"
   ]
  },
  {
   "cell_type": "code",
   "execution_count": 209,
   "id": "545fe0a4",
   "metadata": {},
   "outputs": [
    {
     "data": {
      "text/plain": [
       "0.7095445736434108"
      ]
     },
     "metadata": {},
     "output_type": "display_data"
    }
   ],
   "source": [
    "#Calculate accuracy for all columns\n",
    "\n",
    "accuracy_all = calculate_accuracy(X_val_set, y_val_tf)\n",
    "display(accuracy_all)  \n"
   ]
  },
  {
   "cell_type": "code",
   "execution_count": 210,
   "id": "a1002a38",
   "metadata": {},
   "outputs": [],
   "source": [
    "# Calculate accurac for every feature\n",
    "accuracy_diff = {}\n",
    "\n",
    "\n",
    "for i in range(4):\n",
    "    cols = col_q5.copy()\n",
    "    cols.pop(i)\n",
    "\n",
    "    #Define training and validation set\n",
    "    dv = DictVectorizer(sparse=False)\n",
    "    train_dict = df_train[cols].to_dict(orient='records')\n",
    "    X_train_cols = dv.fit_transform(train_dict)\n",
    "\n",
    "    val_dict = df_val[cols].to_dict(orient='records')\n",
    "    X_val_cols = dv.transform(val_dict)\n",
    "\n",
    "    # Fit model on training dataset\n",
    "    lr = LogisticRegression(solver=\"liblinear\", C=1.0, max_iter=1000, random_state=42)\n",
    "\n",
    "    lr.fit(X_train_cols, y_train_tf)\n",
    "    accuracy_cols = calculate_accuracy(X_val_cols, y_val_tf)\n",
    "    accuracy_diff[col_q5[i]] = accuracy_all - accuracy_cols"
   ]
  },
  {
   "cell_type": "code",
   "execution_count": 211,
   "id": "f2f75cb1",
   "metadata": {},
   "outputs": [
    {
     "data": {
      "text/plain": [
       "{'households': 0.03754844961240311,\n",
       " 'total_bedrooms': 0.04869186046511631,\n",
       " 'population': 0.05281007751937983,\n",
       " 'total_rooms': 0.08187984496124034}"
      ]
     },
     "metadata": {},
     "output_type": "display_data"
    }
   ],
   "source": [
    "display({key: value for key, value in sorted(accuracy_diff.items(), key=lambda item: item[1], reverse=False)})\n"
   ]
  },
  {
   "cell_type": "markdown",
   "id": "cc790811",
   "metadata": {},
   "source": [
    "'Households' has the smallest difference."
   ]
  },
  {
   "cell_type": "markdown",
   "id": "023bf13e",
   "metadata": {},
   "source": [
    "## Question 6\n",
    "\n",
    "For this question, we'll see how to use a linear regression model from Scikit-Learn\n",
    "\n",
    "We'll need to use the original column 'median_house_value'. Apply the logarithmic transformation to this column.\n",
    "\n",
    "Fit the Ridge regression model (model = Ridge(alpha=a, solver=\"sag\", random_state=42)) on the training data.\n",
    "\n",
    "This model has a parameter alpha. Let's try the following values: [0, 0.01, 0.1, 1, 10]\n",
    "\n",
    "Which of these alphas leads to the best RMSE on the validation set? Round your RMSE scores to 3 decimal digits.\n",
    "\n",
    "If there are multiple options, select the smallest alpha."
   ]
  },
  {
   "cell_type": "code",
   "execution_count": 212,
   "id": "085b1986",
   "metadata": {},
   "outputs": [],
   "source": [
    "# Logarithmic transformation\n",
    "y_train_log = np.log1p(y_train)\n",
    "y_val_log = np.log1p(y_val)\n",
    "y_test_log = np.log1p(y_test)"
   ]
  },
  {
   "cell_type": "code",
   "execution_count": 213,
   "id": "de781ac6",
   "metadata": {},
   "outputs": [],
   "source": [
    "# Define rmse\n",
    "def rmse(y, y_pred):\n",
    "    se = (y - y_pred) ** 2\n",
    "    mse = se.mean()\n",
    "    return np.sqrt(mse)"
   ]
  },
  {
   "cell_type": "code",
   "execution_count": 214,
   "id": "56a35ae0",
   "metadata": {},
   "outputs": [],
   "source": [
    "# import model\n",
    "from sklearn.linear_model import Ridge\n",
    "\n",
    "rmse_res = {}\n",
    "\n",
    "for a in [0, 0.01, 0.1, 1, 10]:\n",
    "    model = Ridge(alpha=a, solver=\"sag\", random_state=42)\n",
    "    model.fit(X_train, y_train_log)\n",
    "    y_pred = model.predict(X_val)\n",
    "    rmse_a = rmse(y_val_log, y_pred)\n",
    "    rmse_res[a]= round(rmse_a,8)"
   ]
  },
  {
   "cell_type": "code",
   "execution_count": 215,
   "id": "348b3b2b",
   "metadata": {},
   "outputs": [
    {
     "data": {
      "text/plain": [
       "{0: 0.52406357,\n",
       " 0.01: 0.52406357,\n",
       " 0.1: 0.52406357,\n",
       " 1: 0.52406357,\n",
       " 10: 0.52406359}"
      ]
     },
     "metadata": {},
     "output_type": "display_data"
    }
   ],
   "source": [
    "display({key: value for key, value in sorted(rmse_res.items(), key=lambda item: item[1], reverse=False)})"
   ]
  },
  {
   "cell_type": "markdown",
   "id": "79dcf497",
   "metadata": {},
   "source": [
    "The rmse-values are very simliar. The smallest of the alphas with the same rmse is 0."
   ]
  },
  {
   "cell_type": "code",
   "execution_count": null,
   "id": "5f6bcc78",
   "metadata": {},
   "outputs": [],
   "source": []
  }
 ],
 "metadata": {
  "kernelspec": {
   "display_name": "Python 3 (ipykernel)",
   "language": "python",
   "name": "python3"
  },
  "language_info": {
   "codemirror_mode": {
    "name": "ipython",
    "version": 3
   },
   "file_extension": ".py",
   "mimetype": "text/x-python",
   "name": "python",
   "nbconvert_exporter": "python",
   "pygments_lexer": "ipython3",
   "version": "3.9.7"
  }
 },
 "nbformat": 4,
 "nbformat_minor": 5
}
