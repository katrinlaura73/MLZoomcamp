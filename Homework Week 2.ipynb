{
 "cells": [
  {
   "cell_type": "markdown",
   "id": "42f3c011",
   "metadata": {},
   "source": [
    "# Homework ML Zoomcamp Week 2"
   ]
  },
  {
   "cell_type": "markdown",
   "id": "2e71a8ad",
   "metadata": {},
   "source": [
    "## EDA"
   ]
  },
  {
   "cell_type": "code",
   "execution_count": 164,
   "id": "5d7b8794",
   "metadata": {},
   "outputs": [
    {
     "name": "stdout",
     "output_type": "stream",
     "text": [
      "   longitude  latitude  housing_median_age  total_rooms  total_bedrooms  \\\n",
      "0    -122.23     37.88                41.0        880.0           129.0   \n",
      "1    -122.22     37.86                21.0       7099.0          1106.0   \n",
      "2    -122.24     37.85                52.0       1467.0           190.0   \n",
      "3    -122.25     37.85                52.0       1274.0           235.0   \n",
      "4    -122.25     37.85                52.0       1627.0           280.0   \n",
      "\n",
      "   population  households  median_income  median_house_value ocean_proximity  \n",
      "0       322.0       126.0         8.3252            452600.0        NEAR BAY  \n",
      "1      2401.0      1138.0         8.3014            358500.0        NEAR BAY  \n",
      "2       496.0       177.0         7.2574            352100.0        NEAR BAY  \n",
      "3       558.0       219.0         5.6431            341300.0        NEAR BAY  \n",
      "4       565.0       259.0         3.8462            342200.0        NEAR BAY  \n"
     ]
    }
   ],
   "source": [
    "# Load the data\n",
    "\n",
    "# Import modules\n",
    "import pandas as pd\n",
    "import numpy as np\n",
    "\n",
    "# import data\n",
    "data = 'https://raw.githubusercontent.com/katrinlaura73/MLZoomcamp/main/housing.csv'\n",
    "\n",
    "df = pd.read_csv(data)\n",
    "\n",
    "# Check import\n",
    "print(df.head())\n"
   ]
  },
  {
   "cell_type": "code",
   "execution_count": 165,
   "id": "7dcdf83d",
   "metadata": {},
   "outputs": [
    {
     "data": {
      "image/png": "[encoded data removed]",
      "text/plain": [
       "<Figure size 432x288 with 1 Axes>"
      ]
     },
     "metadata": {
      "needs_background": "light"
     },
     "output_type": "display_data"
    }
   ],
   "source": [
    "# Look at the median_house_value variable. Does it have a long tail?\n",
    "\n",
    "# import modules\n",
    "import matplotlib.pyplot as plt\n",
    "import seaborn as sns\n",
    "\n",
    "# magic command\n",
    "%matplotlib inline\n",
    "\n",
    "# plot median_house_value\n",
    "sns.histplot(df['median_house_value'], bins=50);"
   ]
  },
  {
   "cell_type": "markdown",
   "id": "831c1049",
   "metadata": {},
   "source": [
    "The question: Does the median_house_value variable have a long tail? No. It seems the data has been cut at the value 500000."
   ]
  },
  {
   "cell_type": "markdown",
   "id": "1d3ef6fc",
   "metadata": {},
   "source": [
    "## Feature selection\n",
    "\n",
    "For the rest of the homework, you'll need to use only these columns:\n",
    "\n",
    "'latitude',\n",
    "'longitude',\n",
    "'housing_median_age',\n",
    "'total_rooms',\n",
    "'total_bedrooms',\n",
    "'population',\n",
    "'households',\n",
    "'median_income',\n",
    "'median_house_value'\n",
    "\n",
    "Select only them."
   ]
  },
  {
   "cell_type": "code",
   "execution_count": 166,
   "id": "e99e8c10",
   "metadata": {},
   "outputs": [
    {
     "data": {
      "text/plain": [
       "Index(['latitude', 'longitude', 'housing_median_age', 'total_rooms',\n",
       "       'total_bedrooms', 'population', 'households', 'median_income',\n",
       "       'median_house_value'],\n",
       "      dtype='object')"
      ]
     },
     "execution_count": 166,
     "metadata": {},
     "output_type": "execute_result"
    }
   ],
   "source": [
    "# define cols to use\n",
    "\n",
    "use_cols = ['latitude', 'longitude', 'housing_median_age', 'total_rooms', 'total_bedrooms', 'population', 'households', 'median_income', 'median_house_value']\n",
    "\n",
    "df = df[use_cols]\n",
    "\n",
    "# Check if df exists only of use_cols\n",
    "df.columns"
   ]
  },
  {
   "cell_type": "markdown",
   "id": "a11ed2bc",
   "metadata": {},
   "source": [
    "## Question 1"
   ]
  },
  {
   "cell_type": "code",
   "execution_count": 167,
   "id": "84f18899",
   "metadata": {},
   "outputs": [
    {
     "data": {
      "text/plain": [
       "latitude                0\n",
       "longitude               0\n",
       "housing_median_age      0\n",
       "total_rooms             0\n",
       "total_bedrooms        207\n",
       "population              0\n",
       "households              0\n",
       "median_income           0\n",
       "median_house_value      0\n",
       "dtype: int64"
      ]
     },
     "execution_count": 167,
     "metadata": {},
     "output_type": "execute_result"
    }
   ],
   "source": [
    "# Find a feature with missing values. How many missing values does it have?\n",
    "\n",
    "df.isnull().sum()"
   ]
  },
  {
   "cell_type": "markdown",
   "id": "aae15b89",
   "metadata": {},
   "source": [
    "The column 'total_bedrooms' has 207 missing values."
   ]
  },
  {
   "cell_type": "markdown",
   "id": "1732de7d",
   "metadata": {},
   "source": [
    "## Question 2"
   ]
  },
  {
   "cell_type": "code",
   "execution_count": 168,
   "id": "c9b9ef97",
   "metadata": {},
   "outputs": [
    {
     "data": {
      "text/plain": [
       "1166.0"
      ]
     },
     "execution_count": 168,
     "metadata": {},
     "output_type": "execute_result"
    }
   ],
   "source": [
    "# What's the median (50% percentile) for variable 'population'?\n",
    "\n",
    "df['population'].median()"
   ]
  },
  {
   "cell_type": "markdown",
   "id": "c2757057",
   "metadata": {},
   "source": [
    "The median (50% percentile) for variable 'population is 1166."
   ]
  },
  {
   "cell_type": "markdown",
   "id": "6fb95b7a",
   "metadata": {},
   "source": [
    "## Split data\n",
    "\n",
    "Shuffle the initial dataset, use seed 42.\n",
    "Split your data in train/val/test sets, with 60%/20%/20% distribution.\n",
    "Make sure that the target value ('median_house_value') is not in your dataframe.\n",
    "Apply the log transformation to the median_house_value variable using the np.log1p() function."
   ]
  },
  {
   "cell_type": "code",
   "execution_count": 169,
   "id": "595c0b9d",
   "metadata": {},
   "outputs": [
    {
     "name": "stdout",
     "output_type": "stream",
     "text": [
      "n: 20640 \n",
      "\n",
      "n_val: 4128 \n",
      "\n",
      "n_test: 4128 \n",
      "\n",
      "n_train: 12384\n"
     ]
    }
   ],
   "source": [
    "# Shuffle dataset with seed 42\n",
    "np.random.seed(42)\n",
    "\n",
    "# caclulate len of dataframe  and shuffle result\n",
    "n = len(df)\n",
    "print('n:', n, '\\n')\n",
    "# calculate len of val and test sets\n",
    "n_val = int(n * 0.2)\n",
    "print('n_val:', n_val, '\\n')\n",
    "n_test = n_val\n",
    "print('n_test:', n_test, '\\n')\n",
    "#n_train = \"rest\"\n",
    "n_train = n - n_val - n_test\n",
    "print('n_train:', n_train)"
   ]
  },
  {
   "cell_type": "code",
   "execution_count": 170,
   "id": "7b3668f9",
   "metadata": {},
   "outputs": [
    {
     "data": {
      "text/plain": [
       "(12384, 4128, 4128)"
      ]
     },
     "execution_count": 170,
     "metadata": {},
     "output_type": "execute_result"
    }
   ],
   "source": [
    "# shuffle n\n",
    "idx = np.arange(n)\n",
    "np.random.shuffle(idx)\n",
    "\n",
    "# split train/test/val-sets\n",
    "df_train = df.iloc[idx[:n_train]]\n",
    "df_val = df.iloc[idx[n_train:n_train+n_val]]\n",
    "df_test = df.iloc[idx[n_train+n_val:]]\n",
    "\n",
    "# check split\n",
    "len(df_train), len(df_val), len(df_test)\n"
   ]
  },
  {
   "cell_type": "code",
   "execution_count": 171,
   "id": "1ed5e946",
   "metadata": {},
   "outputs": [],
   "source": [
    "# Reset index\n",
    "df_train = df_train.reset_index(drop=True)\n",
    "df_val = df_val.reset_index(drop=True)\n",
    "df_test = df_test.reset_index(drop=True)"
   ]
  },
  {
   "cell_type": "code",
   "execution_count": 172,
   "id": "4b8d61ba",
   "metadata": {},
   "outputs": [
    {
     "data": {
      "text/plain": [
       "(12384, 4128, 4128)"
      ]
     },
     "execution_count": 172,
     "metadata": {},
     "output_type": "execute_result"
    }
   ],
   "source": [
    "# Set target\n",
    "y_train = np.log1p(df_train['median_house_value'].values)\n",
    "y_val = np.log1p(df_val['median_house_value'].values)\n",
    "y_test = np.log1p(df_test['median_house_value'].values)\n",
    "\n",
    "# check target\n",
    "len(y_train), len(y_val), len(y_test)"
   ]
  },
  {
   "cell_type": "code",
   "execution_count": 173,
   "id": "66924fbe",
   "metadata": {},
   "outputs": [
    {
     "name": "stdout",
     "output_type": "stream",
     "text": [
      "   latitude  longitude  housing_median_age  total_rooms  total_bedrooms  \\\n",
      "0     36.06    -119.01                25.0       1505.0             NaN   \n",
      "1     35.14    -119.46                30.0       2943.0             NaN   \n",
      "2     37.80    -122.44                52.0       3830.0             NaN   \n",
      "3     34.28    -118.72                17.0       3051.0             NaN   \n",
      "4     36.62    -121.93                34.0       2351.0             NaN   \n",
      "\n",
      "   population  households  median_income  \n",
      "0      1392.0       359.0         1.6812  \n",
      "1      1565.0       584.0         2.5313  \n",
      "2      1310.0       963.0         3.4801  \n",
      "3      1705.0       495.0         5.7376  \n",
      "4      1063.0       428.0         3.7250  \n"
     ]
    }
   ],
   "source": [
    "# delete target from dataframe\n",
    "\n",
    "del df_train['median_house_value']\n",
    "del df_val['median_house_value']\n",
    "del df_test['median_house_value']\n",
    "\n",
    "# check delete\n",
    "print(df_train.head())"
   ]
  },
  {
   "cell_type": "markdown",
   "id": "8942b3a3",
   "metadata": {},
   "source": [
    "## Question 4\n",
    "\n",
    "We need to deal with missing values for the column from Q1.\n",
    "We have two options: fill it with 0 or with the mean of this variable.\n",
    "\n",
    "Try both options. For each, train a linear regression model without regularization using the code from the lessons.\n",
    "For computing the mean, use the training only!\n",
    "\n",
    "Use the validation dataset to evaluate the models and compare the RMSE of each option.\n",
    "Round the RMSE scores to 2 decimal digits using round(score, 2)\n",
    "Which option gives better RMSE?"
   ]
  },
  {
   "cell_type": "code",
   "execution_count": 174,
   "id": "75a64c4a",
   "metadata": {},
   "outputs": [],
   "source": [
    "# Define training a linear regression model using code  from lessons\n",
    "def train_linear_regression(X, y):\n",
    "    ones = np.ones(X.shape[0])\n",
    "    X = np.column_stack([ones, X])\n",
    "\n",
    "    XTX = X.T.dot(X)\n",
    "    XTX_inv = np.linalg.inv(XTX)\n",
    "    w_full = XTX_inv.dot(X.T).dot(y)\n",
    "    \n",
    "    return w_full[0], w_full[1:]"
   ]
  },
  {
   "cell_type": "code",
   "execution_count": 175,
   "id": "70927859",
   "metadata": {},
   "outputs": [
    {
     "name": "stdout",
     "output_type": "stream",
     "text": [
      "mean total bedrooms: 533.4803317730147\n"
     ]
    }
   ],
   "source": [
    "# Compute mean of training set\n",
    "\n",
    "mean_tb_train = df_train['total_bedrooms'].mean()\n",
    "print('mean total bedrooms:', mean_tb_train)\n",
    "\n",
    "# Prepare data for Training\n",
    "\n",
    "base =  ['latitude', 'longitude', 'housing_median_age', 'total_rooms', 'population', 'households', 'median_income']\n",
    "\n",
    "#Define peparing function\n",
    "\n",
    "def prepare_X(df, col, fill_no=0):\n",
    "    df = df.copy()\n",
    "    \n",
    "    df_num = df[base]\n",
    "    \n",
    "    df_num['%s_%s' % (col, 'fd')] = df[col].fillna(fill_no)\n",
    "    \n",
    "    X = df_num.values\n",
    "    \n",
    "    return X"
   ]
  },
  {
   "cell_type": "code",
   "execution_count": 176,
   "id": "a543b4e6",
   "metadata": {},
   "outputs": [],
   "source": [
    "# Compute RMSE using code  from lesson\n",
    "def rmse(y, y_pred):\n",
    "    se = (y - y_pred) ** 2\n",
    "    mse = se.mean()\n",
    "    return np.sqrt(mse)"
   ]
  },
  {
   "cell_type": "code",
   "execution_count": 177,
   "id": "2ce99c82",
   "metadata": {},
   "outputs": [
    {
     "name": "stdout",
     "output_type": "stream",
     "text": [
      "RMSE for Linear Regression with fill missing values with 0: 0.3295330365228656 0.33\n"
     ]
    }
   ],
   "source": [
    "# Train Linear Regression with fill missing values with 0\n",
    "col = 'total_bedrooms'\n",
    "\n",
    "X_train_zero = prepare_X(df_train,col, 0)\n",
    "w0, w = train_linear_regression(X_train_zero, y_train)\n",
    "\n",
    "X_val_zero = prepare_X(df_val, col, 0)\n",
    "y_pred_zero = w0 + X_val_zero.dot(w)\n",
    "rmse_zero = rmse(y_val, y_pred_zero)\n",
    "print('RMSE for Linear Regression with fill missing values with 0:',rmse_zero, round(rmse_zero,2))"
   ]
  },
  {
   "cell_type": "code",
   "execution_count": 178,
   "id": "73faf3fd",
   "metadata": {},
   "outputs": [
    {
     "name": "stdout",
     "output_type": "stream",
     "text": [
      "RMSE for Linear Regression with fill missing values with mean: 0.3290195439003925 0.33\n"
     ]
    }
   ],
   "source": [
    "# Train Linear Regression with fill missing values with mean from training set\n",
    "\n",
    "X_train_mean = prepare_X(df_train, col, mean_tb_train)\n",
    "w0, w = train_linear_regression(X_train_mean, y_train)\n",
    "\n",
    "X_val_mean = prepare_X(df_val,col, mean_tb_train)\n",
    "y_pred_mean = w0 + X_val_mean.dot(w)\n",
    "rmse_mean = rmse(y_val, y_pred_mean)\n",
    "print('RMSE for Linear Regression with fill missing values with mean:',rmse_mean, round(rmse_mean,2))"
   ]
  },
  {
   "cell_type": "markdown",
   "id": "97554ae4",
   "metadata": {},
   "source": [
    "Rounded to 2 digits both RMSE's are equal, not rounded filling missing values with mean is slightly better."
   ]
  },
  {
   "cell_type": "markdown",
   "id": "192dd39c",
   "metadata": {},
   "source": [
    "## Question 4\n",
    "\n",
    "Now let's train a regularized linear regression.\n",
    "\n",
    "For this question, fill the NAs with 0.\n",
    "\n",
    "Try different values of r from this list: [0, 0.000001, 0.0001, 0.001, 0.01, 0.1, 1, 5, 10].\n",
    "\n",
    "Use RMSE to evaluate the model on the validation dataset.\n",
    "Round the RMSE scores to 2 decimal digits.\n",
    "\n",
    "Which r gives the best RMSE?"
   ]
  },
  {
   "cell_type": "code",
   "execution_count": 179,
   "id": "506d7253",
   "metadata": {},
   "outputs": [],
   "source": [
    "# Make a new training function with regularization using code from lesson\n",
    "\n",
    "def train_linear_regression_reg(X, y, r=0.001):\n",
    "    ones = np.ones(X.shape[0])\n",
    "    X = np.column_stack([ones, X])\n",
    "\n",
    "    XTX = X.T.dot(X)\n",
    "    # Add regularization\n",
    "    XTX = XTX + r * np.eye(XTX.shape[0])\n",
    "\n",
    "    XTX_inv = np.linalg.inv(XTX)\n",
    "    w_full = XTX_inv.dot(X.T).dot(y)\n",
    "    \n",
    "    return w_full[0], w_full[1:]"
   ]
  },
  {
   "cell_type": "code",
   "execution_count": 180,
   "id": "afc28226",
   "metadata": {},
   "outputs": [],
   "source": [
    "# Prepare data with filling missing numbers with 0\n",
    "X_train = prepare_X(df_train, col, 0)\n",
    "X_val = prepare_X(df_val, col,0)"
   ]
  },
  {
   "cell_type": "code",
   "execution_count": 181,
   "id": "f7663fd5",
   "metadata": {},
   "outputs": [
    {
     "name": "stdout",
     "output_type": "stream",
     "text": [
      "0 -11.686975242109717 0.3295330365228656 0.33\n",
      "1e-06 -11.686959175752467 0.3295330361647215 0.33\n",
      "0.0001 -11.685368865374087 0.3295330009706893 0.33\n",
      "0.001 -11.670931318217315 0.3295327038672127 0.33\n",
      "0.01 -11.528493585768743 0.3295319365996571 0.33\n",
      "0.1 -10.274500282143533 0.32969472053949334 0.33\n",
      "1 -4.920480897753913 0.3337887220008765 0.33\n",
      "5 -1.4820957456983253 0.33924853455033244 0.34\n",
      "10 -0.7899311832095876 0.3406063807809514 0.34\n"
     ]
    }
   ],
   "source": [
    "# Try different r for regularization\n",
    "\n",
    "for r in [0, 0.000001, 0.0001, 0.001, 0.01, 0.1, 1, 5, 10]:\n",
    "    w0, w = train_linear_regression_reg(X_train, y_train, r)\n",
    "    y_pred = w0 + X_val.dot(w)\n",
    "    score_rmse = rmse(y_val, y_pred)\n",
    "    \n",
    "    print(r, w0, score_rmse, round(score_rmse, 2))"
   ]
  },
  {
   "cell_type": "markdown",
   "id": "57edbdfd",
   "metadata": {},
   "source": [
    "The best rmse is for r = 0.01 but only if I do not round the rmse."
   ]
  },
  {
   "cell_type": "markdown",
   "id": "74814e90",
   "metadata": {},
   "source": [
    "## Question 5\n",
    "We used seed 42 for splitting the data. Let's find out how selecting the seed influences our score.\n",
    "\n",
    "Try different seed values: [0, 1, 2, 3, 4, 5, 6, 7, 8, 9].\n",
    "\n",
    "For each seed, do the train/validation/test split with 60%/20%/20% distribution.\n",
    "\n",
    "Fill the missing values with 0 and train a model without regularization.\n",
    "\n",
    "For each seed, evaluate the model on the validation dataset and collect the RMSE scores.\n",
    "\n",
    "What's the standard deviation of all the scores? To compute the standard deviation, use np.std.\n",
    "Round the result to 3 decimal digits (round(std, 3))"
   ]
  },
  {
   "cell_type": "code",
   "execution_count": 182,
   "id": "33e3dca0",
   "metadata": {},
   "outputs": [
    {
     "name": "stdout",
     "output_type": "stream",
     "text": [
      "0 -11.294920047544444 rmse: 0.3559157375990223 0.36\n",
      "1 -12.064144126864868 rmse: 0.34755448619821705 0.35\n",
      "2 -11.332816282493289 rmse: 0.3451076185195358 0.35\n",
      "3 -11.788041273724975 rmse: 0.33994277780939763 0.34\n",
      "4 -11.377108224486754 rmse: 0.3466419731676044 0.35\n",
      "5 -11.372709626976501 rmse: 0.33414874403251815 0.33\n",
      "6 -11.756896808280592 rmse: 0.34575231053179895 0.35\n",
      "7 -11.720791314329023 rmse: 0.34349121952584677 0.34\n",
      "8 -11.726128460702004 rmse: 0.3415180804182667 0.34\n",
      "9 -11.658897201196247 rmse: 0.34264921138118315 0.34\n"
     ]
    }
   ],
   "source": [
    "# Evaluate model for different seeds\n",
    "\n",
    "score_rmse_list = []\n",
    "\n",
    "for s in [0, 1, 2, 3, 4, 5, 6, 7, 8, 9]:\n",
    "    # set seed\n",
    "    np.random.seed(s)\n",
    "    \n",
    "    #shuffle idx\n",
    "    np.random.shuffle(idx)\n",
    "    \n",
    "    # Split dataset\n",
    "    df_train = df.iloc[idx[:n_train]]\n",
    "    df_val = df.iloc[idx[n_train:n_train+n_val]]\n",
    "    df_test = df.iloc[idx[n_train+n_val:]]\n",
    "    \n",
    "    # Reset index\n",
    "    df_train = df_train.reset_index(drop=True)\n",
    "    df_val = df_val.reset_index(drop=True)\n",
    "    df_test = df_test.reset_index(drop=True)\n",
    "    \n",
    "    # Set target\n",
    "    y_train = np.log1p(df_train['median_house_value'].values)\n",
    "    y_val = np.log1p(df_val['median_house_value'].values)\n",
    "    y_test = np.log1p(df_test['median_house_value'].values)\n",
    "    \n",
    "    # Drop target\n",
    "    del df_train['median_house_value']\n",
    "    del df_val['median_house_value']\n",
    "    del df_test['median_house_value']\n",
    "    \n",
    "    # Prepare Data\n",
    "    X_train = prepare_X(df_train, col, 0)\n",
    "    X_val = prepare_X(df_val, col,0)\n",
    "    \n",
    "    # Train model without regularization\n",
    "    w0, w = train_linear_regression(X_train, y_train)\n",
    "    y_pred = w0 + X_val.dot(w)\n",
    "    score_rmse = rmse(y_val, y_pred)\n",
    "    score_rmse_list.append(score_rmse)\n",
    "    \n",
    "    print(s, w0, 'rmse:', score_rmse, round(score_rmse, 2) )"
   ]
  },
  {
   "cell_type": "code",
   "execution_count": 183,
   "id": "c46b43fc",
   "metadata": {},
   "outputs": [
    {
     "name": "stdout",
     "output_type": "stream",
     "text": [
      "0.005\n"
     ]
    }
   ],
   "source": [
    "# Calculate standard deviation\n",
    "\n",
    "std_rmse = np.std(score_rmse_list)\n",
    "\n",
    "print(round(std_rmse,3))"
   ]
  },
  {
   "cell_type": "markdown",
   "id": "1cb0bee4",
   "metadata": {},
   "source": [
    "## Question 6\n",
    "Split the dataset like previously, use seed 9.\n",
    "\n",
    "Combine train and validation datasets.\n",
    "\n",
    "Fill the missing values with 0 and train a model with r=0.001.\n",
    "\n",
    "What's the RMSE on the test dataset?"
   ]
  },
  {
   "cell_type": "code",
   "execution_count": 184,
   "id": "3dfa3ea3",
   "metadata": {},
   "outputs": [
    {
     "name": "stdout",
     "output_type": "stream",
     "text": [
      "RMSE on test dataset: 0.3453168914356042 0.35\n"
     ]
    }
   ],
   "source": [
    "# Split dataset with seed 9\n",
    "# set seed\n",
    "np.random.seed(9)\n",
    "    \n",
    "#shuffle idx\n",
    "idx = np.arange(n)\n",
    "np.random.shuffle(idx)\n",
    "    \n",
    "# Split dataset\n",
    "df_train = df.iloc[idx[:n_train]]\n",
    "df_val = df.iloc[idx[n_train:n_train+n_val]]\n",
    "df_test = df.iloc[idx[n_train+n_val:]]\n",
    "    \n",
    "# Reset index\n",
    "df_train = df_train.reset_index(drop=True)\n",
    "df_val = df_val.reset_index(drop=True)\n",
    "df_test = df_test.reset_index(drop=True)\n",
    "    \n",
    "# Set target\n",
    "y_train = np.log1p(df_train['median_house_value'].values)\n",
    "y_val = np.log1p(df_val['median_house_value'].values)\n",
    "y_test = np.log1p(df_test['median_house_value'].values)\n",
    "    \n",
    "# Drop target\n",
    "del df_train['median_house_value']\n",
    "del df_val['median_house_value']\n",
    "del df_test['median_house_value']\n",
    "\n",
    "#Combine train and validation set\n",
    "df_train_full = pd.concat([df_train, df_val])\n",
    "y_train_full = np.concatenate([y_train, y_val])\n",
    "    \n",
    "# Prepare Data filling missing values with 0\n",
    "X_train_full = prepare_X(df_train_full, col, 0)\n",
    "X_test = prepare_X(df_test, col, 0)\n",
    "    \n",
    "# Train model with regularization r = 0.001\n",
    "w0, w = train_linear_regression_reg(X_train_full, y_train_full, 0.001)\n",
    "y_pred = w0 + X_test.dot(w)\n",
    "\n",
    "# Calculate score\n",
    "score_rmse = rmse(y_test, y_pred)\n",
    "print('RMSE on test dataset:', score_rmse, round(score_rmse, 2))"
   ]
  },
  {
   "cell_type": "code",
   "execution_count": null,
   "id": "c52f9f5c",
   "metadata": {},
   "outputs": [],
   "source": []
  },
  {
   "cell_type": "code",
   "execution_count": null,
   "id": "d0b6ceac",
   "metadata": {},
   "outputs": [],
   "source": []
  }
 ],
 "metadata": {
  "kernelspec": {
   "display_name": "Python 3 (ipykernel)",
   "language": "python",
   "name": "python3"
  },
  "language_info": {
   "codemirror_mode": {
    "name": "ipython",
    "version": 3
   },
   "file_extension": ".py",
   "mimetype": "text/x-python",
   "name": "python",
   "nbconvert_exporter": "python",
   "pygments_lexer": "ipython3",
   "version": "3.9.7"
  }
 },
 "nbformat": 4,
 "nbformat_minor": 5
}
