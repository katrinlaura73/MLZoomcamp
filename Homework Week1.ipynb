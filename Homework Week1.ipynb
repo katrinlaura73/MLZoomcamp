{
 "cells": [
  {
   "cell_type": "markdown",
   "id": "5619f982",
   "metadata": {},
   "source": [
    "# Homework ML Zoomcamp Week 1"
   ]
  },
  {
   "cell_type": "markdown",
   "id": "1f101fb5",
   "metadata": {},
   "source": [
    "## Version of Python and Numpy"
   ]
  },
  {
   "cell_type": "code",
   "execution_count": 30,
   "id": "8894cc05",
   "metadata": {},
   "outputs": [
    {
     "name": "stdout",
     "output_type": "stream",
     "text": [
      "3.9.7\n"
     ]
    }
   ],
   "source": [
    "from platform import python_version\n",
    "print(python_version())"
   ]
  },
  {
   "cell_type": "code",
   "execution_count": 31,
   "id": "f1ab724c",
   "metadata": {},
   "outputs": [
    {
     "data": {
      "text/plain": [
       "'1.20.3'"
      ]
     },
     "execution_count": 31,
     "metadata": {},
     "output_type": "execute_result"
    }
   ],
   "source": [
    "import numpy as np\n",
    "np.__version__"
   ]
  },
  {
   "cell_type": "markdown",
   "id": "baaf90b5",
   "metadata": {},
   "source": [
    "## Getting the Data"
   ]
  },
  {
   "cell_type": "code",
   "execution_count": 32,
   "id": "6e67b698",
   "metadata": {},
   "outputs": [],
   "source": [
    "import pandas as pd"
   ]
  },
  {
   "cell_type": "code",
   "execution_count": 33,
   "id": "c53fa029",
   "metadata": {},
   "outputs": [],
   "source": [
    "# Daten einlesen\n",
    "data = pd.read_csv('https://raw.githubusercontent.com/alexeygrigorev/mlbookcamp-code/master/chapter-02-car-price/data.csv')"
   ]
  },
  {
   "cell_type": "code",
   "execution_count": 34,
   "id": "5f451bc1",
   "metadata": {},
   "outputs": [
    {
     "data": {
      "text/html": [
       "<div>\n",
       "<style scoped>\n",
       "    .dataframe tbody tr th:only-of-type {\n",
       "        vertical-align: middle;\n",
       "    }\n",
       "\n",
       "    .dataframe tbody tr th {\n",
       "        vertical-align: top;\n",
       "    }\n",
       "\n",
       "    .dataframe thead th {\n",
       "        text-align: right;\n",
       "    }\n",
       "</style>\n",
       "<table border=\"1\" class=\"dataframe\">\n",
       "  <thead>\n",
       "    <tr style=\"text-align: right;\">\n",
       "      <th></th>\n",
       "      <th>Make</th>\n",
       "      <th>Model</th>\n",
       "      <th>Year</th>\n",
       "      <th>Engine Fuel Type</th>\n",
       "      <th>Engine HP</th>\n",
       "      <th>Engine Cylinders</th>\n",
       "      <th>Transmission Type</th>\n",
       "      <th>Driven_Wheels</th>\n",
       "      <th>Number of Doors</th>\n",
       "      <th>Market Category</th>\n",
       "      <th>Vehicle Size</th>\n",
       "      <th>Vehicle Style</th>\n",
       "      <th>highway MPG</th>\n",
       "      <th>city mpg</th>\n",
       "      <th>Popularity</th>\n",
       "      <th>MSRP</th>\n",
       "    </tr>\n",
       "  </thead>\n",
       "  <tbody>\n",
       "    <tr>\n",
       "      <th>0</th>\n",
       "      <td>BMW</td>\n",
       "      <td>1 Series M</td>\n",
       "      <td>2011</td>\n",
       "      <td>premium unleaded (required)</td>\n",
       "      <td>335.0</td>\n",
       "      <td>6.0</td>\n",
       "      <td>MANUAL</td>\n",
       "      <td>rear wheel drive</td>\n",
       "      <td>2.0</td>\n",
       "      <td>Factory Tuner,Luxury,High-Performance</td>\n",
       "      <td>Compact</td>\n",
       "      <td>Coupe</td>\n",
       "      <td>26</td>\n",
       "      <td>19</td>\n",
       "      <td>3916</td>\n",
       "      <td>46135</td>\n",
       "    </tr>\n",
       "    <tr>\n",
       "      <th>1</th>\n",
       "      <td>BMW</td>\n",
       "      <td>1 Series</td>\n",
       "      <td>2011</td>\n",
       "      <td>premium unleaded (required)</td>\n",
       "      <td>300.0</td>\n",
       "      <td>6.0</td>\n",
       "      <td>MANUAL</td>\n",
       "      <td>rear wheel drive</td>\n",
       "      <td>2.0</td>\n",
       "      <td>Luxury,Performance</td>\n",
       "      <td>Compact</td>\n",
       "      <td>Convertible</td>\n",
       "      <td>28</td>\n",
       "      <td>19</td>\n",
       "      <td>3916</td>\n",
       "      <td>40650</td>\n",
       "    </tr>\n",
       "    <tr>\n",
       "      <th>2</th>\n",
       "      <td>BMW</td>\n",
       "      <td>1 Series</td>\n",
       "      <td>2011</td>\n",
       "      <td>premium unleaded (required)</td>\n",
       "      <td>300.0</td>\n",
       "      <td>6.0</td>\n",
       "      <td>MANUAL</td>\n",
       "      <td>rear wheel drive</td>\n",
       "      <td>2.0</td>\n",
       "      <td>Luxury,High-Performance</td>\n",
       "      <td>Compact</td>\n",
       "      <td>Coupe</td>\n",
       "      <td>28</td>\n",
       "      <td>20</td>\n",
       "      <td>3916</td>\n",
       "      <td>36350</td>\n",
       "    </tr>\n",
       "    <tr>\n",
       "      <th>3</th>\n",
       "      <td>BMW</td>\n",
       "      <td>1 Series</td>\n",
       "      <td>2011</td>\n",
       "      <td>premium unleaded (required)</td>\n",
       "      <td>230.0</td>\n",
       "      <td>6.0</td>\n",
       "      <td>MANUAL</td>\n",
       "      <td>rear wheel drive</td>\n",
       "      <td>2.0</td>\n",
       "      <td>Luxury,Performance</td>\n",
       "      <td>Compact</td>\n",
       "      <td>Coupe</td>\n",
       "      <td>28</td>\n",
       "      <td>18</td>\n",
       "      <td>3916</td>\n",
       "      <td>29450</td>\n",
       "    </tr>\n",
       "    <tr>\n",
       "      <th>4</th>\n",
       "      <td>BMW</td>\n",
       "      <td>1 Series</td>\n",
       "      <td>2011</td>\n",
       "      <td>premium unleaded (required)</td>\n",
       "      <td>230.0</td>\n",
       "      <td>6.0</td>\n",
       "      <td>MANUAL</td>\n",
       "      <td>rear wheel drive</td>\n",
       "      <td>2.0</td>\n",
       "      <td>Luxury</td>\n",
       "      <td>Compact</td>\n",
       "      <td>Convertible</td>\n",
       "      <td>28</td>\n",
       "      <td>18</td>\n",
       "      <td>3916</td>\n",
       "      <td>34500</td>\n",
       "    </tr>\n",
       "  </tbody>\n",
       "</table>\n",
       "</div>"
      ],
      "text/plain": [
       "  Make       Model  Year             Engine Fuel Type  Engine HP  \\\n",
       "0  BMW  1 Series M  2011  premium unleaded (required)      335.0   \n",
       "1  BMW    1 Series  2011  premium unleaded (required)      300.0   \n",
       "2  BMW    1 Series  2011  premium unleaded (required)      300.0   \n",
       "3  BMW    1 Series  2011  premium unleaded (required)      230.0   \n",
       "4  BMW    1 Series  2011  premium unleaded (required)      230.0   \n",
       "\n",
       "   Engine Cylinders Transmission Type     Driven_Wheels  Number of Doors  \\\n",
       "0               6.0            MANUAL  rear wheel drive              2.0   \n",
       "1               6.0            MANUAL  rear wheel drive              2.0   \n",
       "2               6.0            MANUAL  rear wheel drive              2.0   \n",
       "3               6.0            MANUAL  rear wheel drive              2.0   \n",
       "4               6.0            MANUAL  rear wheel drive              2.0   \n",
       "\n",
       "                         Market Category Vehicle Size Vehicle Style  \\\n",
       "0  Factory Tuner,Luxury,High-Performance      Compact         Coupe   \n",
       "1                     Luxury,Performance      Compact   Convertible   \n",
       "2                Luxury,High-Performance      Compact         Coupe   \n",
       "3                     Luxury,Performance      Compact         Coupe   \n",
       "4                                 Luxury      Compact   Convertible   \n",
       "\n",
       "   highway MPG  city mpg  Popularity   MSRP  \n",
       "0           26        19        3916  46135  \n",
       "1           28        19        3916  40650  \n",
       "2           28        20        3916  36350  \n",
       "3           28        18        3916  29450  \n",
       "4           28        18        3916  34500  "
      ]
     },
     "metadata": {},
     "output_type": "display_data"
    }
   ],
   "source": [
    "# Check data\n",
    "display(data.head())"
   ]
  },
  {
   "cell_type": "markdown",
   "id": "fa3187f0",
   "metadata": {},
   "source": [
    "## Question 2"
   ]
  },
  {
   "cell_type": "code",
   "execution_count": 35,
   "id": "eef1758b",
   "metadata": {},
   "outputs": [
    {
     "name": "stdout",
     "output_type": "stream",
     "text": [
      "11914\n"
     ]
    }
   ],
   "source": [
    "# Number of rows\n",
    "print(len(data))"
   ]
  },
  {
   "cell_type": "markdown",
   "id": "e87de9be",
   "metadata": {},
   "source": [
    "## Question 3"
   ]
  },
  {
   "cell_type": "code",
   "execution_count": 36,
   "id": "c8641c87",
   "metadata": {},
   "outputs": [
    {
     "name": "stdout",
     "output_type": "stream",
     "text": [
      "Make\n",
      "Chevrolet     1123\n",
      "Ford           881\n",
      "Volkswagen     809\n",
      "dtype: int64\n"
     ]
    }
   ],
   "source": [
    "#  most frequent car manufacturers (top-3)\n",
    "print(data.value_counts('Make')[:3])"
   ]
  },
  {
   "cell_type": "markdown",
   "id": "314d558e",
   "metadata": {},
   "source": [
    "## Question 4"
   ]
  },
  {
   "cell_type": "code",
   "execution_count": 37,
   "id": "931369d0",
   "metadata": {},
   "outputs": [
    {
     "name": "stdout",
     "output_type": "stream",
     "text": [
      "\n",
      " Number of unique car models:  34\n"
     ]
    }
   ],
   "source": [
    "#  number of unique Audi car models\n",
    "# make subset\n",
    "audi = data[data['Make']=='Audi']\n",
    "\n",
    "# see unique car models in subset\n",
    "# print(audi['Model'].unique())\n",
    "print('\\n', 'Number of unique car models: ', len(audi['Model'].unique()))"
   ]
  },
  {
   "cell_type": "markdown",
   "id": "a807c141",
   "metadata": {},
   "source": [
    "## Question 5"
   ]
  },
  {
   "cell_type": "code",
   "execution_count": 38,
   "id": "67de5d08",
   "metadata": {},
   "outputs": [
    {
     "name": "stdout",
     "output_type": "stream",
     "text": [
      "Make                    0\n",
      "Model                   0\n",
      "Year                    0\n",
      "Engine Fuel Type        3\n",
      "Engine HP              69\n",
      "Engine Cylinders       30\n",
      "Transmission Type       0\n",
      "Driven_Wheels           0\n",
      "Number of Doors         6\n",
      "Market Category      3742\n",
      "Vehicle Size            0\n",
      "Vehicle Style           0\n",
      "highway MPG             0\n",
      "city mpg                0\n",
      "Popularity              0\n",
      "MSRP                    0\n",
      "dtype: int64\n"
     ]
    }
   ],
   "source": [
    "# How many columns in the dataset have missing values?\n",
    "print(data.isna().sum())"
   ]
  },
  {
   "cell_type": "markdown",
   "id": "15f5fae9",
   "metadata": {},
   "source": [
    "## Question 6"
   ]
  },
  {
   "cell_type": "code",
   "execution_count": 39,
   "id": "41cba841",
   "metadata": {},
   "outputs": [
    {
     "name": "stdout",
     "output_type": "stream",
     "text": [
      "Median of \"Engine Cylinders\" column:  6.0 \n",
      "\n",
      "Most frequent of \"Engine Cylinders\" column:  4.0 \n",
      "\n",
      "Median of \"Engine Cylinders of fillna\" column:  6.0 \n",
      "\n"
     ]
    }
   ],
   "source": [
    "# Find the median value of \"Engine Cylinders\" column in the dataset.\n",
    "print('Median of \"Engine Cylinders\" column: ',data['Engine Cylinders'].median(), '\\n')\n",
    "\n",
    "# Next, calculate the most frequent value of the same \"Engine Cylinders\".\n",
    "mfv = data['Engine Cylinders'].value_counts().index[0]\n",
    "print('Most frequent of \"Engine Cylinders\" column: ',mfv, '\\n')\n",
    "\n",
    "# Use the fillna method to fill the missing values in \"Engine Cylinders\" with the most frequent value from the previous step.\n",
    "data['Engine Cylinders'].fillna(mfv, inplace=True)\n",
    "\n",
    "# Now, calculate the median value of \"Engine Cylinders\" once again.\n",
    "print('Median of \"Engine Cylinders of fillna\" column: ',data['Engine Cylinders'].median(), '\\n')\n",
    "\n",
    "#print(data.isna().sum())"
   ]
  },
  {
   "cell_type": "markdown",
   "id": "e000283e",
   "metadata": {},
   "source": [
    "## Question 7"
   ]
  },
  {
   "cell_type": "code",
   "execution_count": 40,
   "id": "02d306db",
   "metadata": {},
   "outputs": [
    {
     "name": "stdout",
     "output_type": "stream",
     "text": [
      "Number of rows after drop_duplicates: 9 \n",
      "\n",
      "First value of w:  4.594944810094579\n"
     ]
    }
   ],
   "source": [
    "#Select all the \"Lotus\" cars from the dataset.\n",
    "lotus = data[data['Make']=='Lotus']\n",
    "\n",
    "#Select only columns \"Engine HP\", \"Engine Cylinders\".\n",
    "lotus_engine = lotus[['Engine HP', 'Engine Cylinders']]\n",
    "\n",
    "#Now drop all duplicated rows using drop_duplicates method (you should get a dataframe with 9 rows).\n",
    "lotus_engine = lotus_engine.drop_duplicates()\n",
    "\n",
    "print('Number of rows after drop_duplicates:', len(lotus_engine), '\\n')\n",
    "\n",
    "#Get the underlying NumPy array. Let's call it X.\n",
    "X = lotus_engine.values\n",
    "\n",
    "#Compute matrix-matrix multiplication between the transpose of X and X. To get the transpose, use X.T. Let's call the result XTX.\n",
    "XTX = np.dot(X.T, X)\n",
    "\n",
    "#Invert XTX.\n",
    "XTX_invers = np.linalg.inv(XTX)\n",
    "\n",
    "#Create an array y with values [1100, 800, 750, 850, 1300, 1000, 1000, 1300, 800].\n",
    "y = np.array([1100, 800, 750, 850, 1300, 1000, 1000, 1300, 800])\n",
    "\n",
    "#Multiply the inverse of XTX with the transpose of X, and then multiply the result by y. Call the result w.\n",
    "w_1 = np.dot(XTX_invers, X.T)\n",
    "w = np.dot(w_1, y)\n",
    "\n",
    "#What's the value of the first element of w?\n",
    "print('First value of w: ', w[0])"
   ]
  },
  {
   "cell_type": "code",
   "execution_count": null,
   "id": "2b6e6529",
   "metadata": {},
   "outputs": [],
   "source": []
  }
 ],
 "metadata": {
  "kernelspec": {
   "display_name": "Python 3 (ipykernel)",
   "language": "python",
   "name": "python3"
  },
  "language_info": {
   "codemirror_mode": {
    "name": "ipython",
    "version": 3
   },
   "file_extension": ".py",
   "mimetype": "text/x-python",
   "name": "python",
   "nbconvert_exporter": "python",
   "pygments_lexer": "ipython3",
   "version": "3.9.7"
  }
 },
 "nbformat": 4,
 "nbformat_minor": 5
}
