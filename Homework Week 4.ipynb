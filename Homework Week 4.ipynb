{
 "cells": [
  {
   "cell_type": "markdown",
   "id": "7efd5898",
   "metadata": {},
   "source": [
    "# Homework ML Zoomcamp Week 4"
   ]
  },
  {
   "cell_type": "markdown",
   "id": "cdd9371c",
   "metadata": {},
   "source": [
    "## Data\n",
    "\n",
    "In this homework, we will use Credit Card Data from book \"Econometric Analysis\".\n",
    "\n",
    "Here's a wget-able link:\n",
    "\n",
    "wget https://raw.githubusercontent.com/alexeygrigorev/datasets/master/AER_credit_card_data.csv\n",
    "\n",
    "The goal of this homework is to inspect the output of different evaluation metrics by creating a classification model (target column card)."
   ]
  },
  {
   "cell_type": "markdown",
   "id": "11d9ec05",
   "metadata": {},
   "source": [
    "## Module"
   ]
  },
  {
   "cell_type": "code",
   "execution_count": 122,
   "id": "d98e9d3f",
   "metadata": {},
   "outputs": [],
   "source": [
    "#import modules\n",
    "import wget\n",
    "\n",
    "import pandas as pd\n",
    "import numpy as np\n",
    "\n",
    "import matplotlib.pyplot as plt\n",
    "%matplotlib inline\n",
    "\n",
    "from sklearn.model_selection import train_test_split, KFold \n",
    "from sklearn.metrics import roc_auc_score\n",
    "from sklearn.feature_extraction import DictVectorizer\n",
    "from sklearn.linear_model import LogisticRegression"
   ]
  },
  {
   "cell_type": "markdown",
   "id": "1fe47563",
   "metadata": {},
   "source": [
    "## Import data"
   ]
  },
  {
   "cell_type": "code",
   "execution_count": 123,
   "id": "4f799d73",
   "metadata": {},
   "outputs": [
    {
     "name": "stdout",
     "output_type": "stream",
     "text": [
      "\r",
      "  0% [                                                                              ]     0 / 73250\r",
      " 11% [........                                                                      ]  8192 / 73250\r",
      " 22% [.................                                                             ] 16384 / 73250\r",
      " 33% [..........................                                                    ] 24576 / 73250\r",
      " 44% [..................................                                            ] 32768 / 73250\r",
      " 55% [...........................................                                   ] 40960 / 73250\r",
      " 67% [....................................................                          ] 49152 / 73250\r",
      " 78% [.............................................................                 ] 57344 / 73250\r",
      " 89% [.....................................................................         ] 65536 / 73250\r",
      "100% [..............................................................................] 73250 / 73250"
     ]
    },
    {
     "data": {
      "text/html": [
       "<div>\n",
       "<style scoped>\n",
       "    .dataframe tbody tr th:only-of-type {\n",
       "        vertical-align: middle;\n",
       "    }\n",
       "\n",
       "    .dataframe tbody tr th {\n",
       "        vertical-align: top;\n",
       "    }\n",
       "\n",
       "    .dataframe thead th {\n",
       "        text-align: right;\n",
       "    }\n",
       "</style>\n",
       "<table border=\"1\" class=\"dataframe\">\n",
       "  <thead>\n",
       "    <tr style=\"text-align: right;\">\n",
       "      <th></th>\n",
       "      <th>card</th>\n",
       "      <th>reports</th>\n",
       "      <th>age</th>\n",
       "      <th>income</th>\n",
       "      <th>share</th>\n",
       "      <th>expenditure</th>\n",
       "      <th>owner</th>\n",
       "      <th>selfemp</th>\n",
       "      <th>dependents</th>\n",
       "      <th>months</th>\n",
       "      <th>majorcards</th>\n",
       "      <th>active</th>\n",
       "    </tr>\n",
       "  </thead>\n",
       "  <tbody>\n",
       "    <tr>\n",
       "      <th>0</th>\n",
       "      <td>yes</td>\n",
       "      <td>0</td>\n",
       "      <td>37.66667</td>\n",
       "      <td>4.5200</td>\n",
       "      <td>0.033270</td>\n",
       "      <td>124.983300</td>\n",
       "      <td>yes</td>\n",
       "      <td>no</td>\n",
       "      <td>3</td>\n",
       "      <td>54</td>\n",
       "      <td>1</td>\n",
       "      <td>12</td>\n",
       "    </tr>\n",
       "    <tr>\n",
       "      <th>1</th>\n",
       "      <td>yes</td>\n",
       "      <td>0</td>\n",
       "      <td>33.25000</td>\n",
       "      <td>2.4200</td>\n",
       "      <td>0.005217</td>\n",
       "      <td>9.854167</td>\n",
       "      <td>no</td>\n",
       "      <td>no</td>\n",
       "      <td>3</td>\n",
       "      <td>34</td>\n",
       "      <td>1</td>\n",
       "      <td>13</td>\n",
       "    </tr>\n",
       "    <tr>\n",
       "      <th>2</th>\n",
       "      <td>yes</td>\n",
       "      <td>0</td>\n",
       "      <td>33.66667</td>\n",
       "      <td>4.5000</td>\n",
       "      <td>0.004156</td>\n",
       "      <td>15.000000</td>\n",
       "      <td>yes</td>\n",
       "      <td>no</td>\n",
       "      <td>4</td>\n",
       "      <td>58</td>\n",
       "      <td>1</td>\n",
       "      <td>5</td>\n",
       "    </tr>\n",
       "    <tr>\n",
       "      <th>3</th>\n",
       "      <td>yes</td>\n",
       "      <td>0</td>\n",
       "      <td>30.50000</td>\n",
       "      <td>2.5400</td>\n",
       "      <td>0.065214</td>\n",
       "      <td>137.869200</td>\n",
       "      <td>no</td>\n",
       "      <td>no</td>\n",
       "      <td>0</td>\n",
       "      <td>25</td>\n",
       "      <td>1</td>\n",
       "      <td>7</td>\n",
       "    </tr>\n",
       "    <tr>\n",
       "      <th>4</th>\n",
       "      <td>yes</td>\n",
       "      <td>0</td>\n",
       "      <td>32.16667</td>\n",
       "      <td>9.7867</td>\n",
       "      <td>0.067051</td>\n",
       "      <td>546.503300</td>\n",
       "      <td>yes</td>\n",
       "      <td>no</td>\n",
       "      <td>2</td>\n",
       "      <td>64</td>\n",
       "      <td>1</td>\n",
       "      <td>5</td>\n",
       "    </tr>\n",
       "  </tbody>\n",
       "</table>\n",
       "</div>"
      ],
      "text/plain": [
       "  card  reports       age  income     share  expenditure owner selfemp  \\\n",
       "0  yes        0  37.66667  4.5200  0.033270   124.983300   yes      no   \n",
       "1  yes        0  33.25000  2.4200  0.005217     9.854167    no      no   \n",
       "2  yes        0  33.66667  4.5000  0.004156    15.000000   yes      no   \n",
       "3  yes        0  30.50000  2.5400  0.065214   137.869200    no      no   \n",
       "4  yes        0  32.16667  9.7867  0.067051   546.503300   yes      no   \n",
       "\n",
       "   dependents  months  majorcards  active  \n",
       "0           3      54           1      12  \n",
       "1           3      34           1      13  \n",
       "2           4      58           1       5  \n",
       "3           0      25           1       7  \n",
       "4           2      64           1       5  "
      ]
     },
     "metadata": {},
     "output_type": "display_data"
    }
   ],
   "source": [
    "# Use wget\n",
    "wget.download('https://raw.githubusercontent.com/alexeygrigorev/datasets/master/AER_credit_card_data.csv')\n",
    "# it gets downloaded in your folder then do\n",
    "df  = pd.read_csv(\"AER_credit_card_data.csv\")\n",
    "\n",
    "#Check import\n",
    "display(df.head())"
   ]
  },
  {
   "cell_type": "markdown",
   "id": "1f619723",
   "metadata": {},
   "source": [
    "## Preparation\n",
    "\n",
    "Create the target variable by mapping yes to 1 and no to 0.\n",
    "\n",
    "Split the dataset into 3 parts: train/validation/test with 60%/20%/20% distribution. Use train_test_split funciton for that with random_state=1."
   ]
  },
  {
   "cell_type": "code",
   "execution_count": 124,
   "id": "6e088038",
   "metadata": {},
   "outputs": [
    {
     "data": {
      "text/plain": [
       "'old:'"
      ]
     },
     "metadata": {},
     "output_type": "display_data"
    },
    {
     "data": {
      "text/plain": [
       "yes    1023\n",
       "no      296\n",
       "Name: card, dtype: int64"
      ]
     },
     "metadata": {},
     "output_type": "display_data"
    },
    {
     "data": {
      "text/plain": [
       "'new: '"
      ]
     },
     "metadata": {},
     "output_type": "display_data"
    },
    {
     "data": {
      "text/plain": [
       "1    1023\n",
       "0     296\n",
       "Name: target, dtype: int64"
      ]
     },
     "metadata": {},
     "output_type": "display_data"
    }
   ],
   "source": [
    "# Map yes - 1, no - 0\n",
    "df['target'] = df['card'].map({'yes': 1, 'no': 0})\n",
    "\n",
    "# Check mapping\n",
    "display(\"old:\", df['card'].value_counts(), 'new: ', df['target'].value_counts())"
   ]
  },
  {
   "cell_type": "code",
   "execution_count": 125,
   "id": "0ff73202",
   "metadata": {},
   "outputs": [
    {
     "data": {
      "text/plain": [
       "1055"
      ]
     },
     "metadata": {},
     "output_type": "display_data"
    },
    {
     "data": {
      "text/plain": [
       "264"
      ]
     },
     "metadata": {},
     "output_type": "display_data"
    },
    {
     "data": {
      "text/plain": [
       "791"
      ]
     },
     "metadata": {},
     "output_type": "display_data"
    },
    {
     "data": {
      "text/plain": [
       "264"
      ]
     },
     "metadata": {},
     "output_type": "display_data"
    }
   ],
   "source": [
    "# Define seed\n",
    "seed = 1\n",
    "\n",
    "# Split dataset\n",
    "\n",
    "df_train_full, df_test = train_test_split(df, test_size = 0.2, random_state = seed)\n",
    "df_train, df_val = train_test_split(df_train_full, test_size = 0.25, random_state=seed)\n",
    "\n",
    "# Check split\n",
    "display(len(df_train_full), len(df_test), len(df_train), len(df_val))\n",
    "\n",
    "# Reset indices\n",
    "df_train = df_train.reset_index(drop=True)\n",
    "df_val = df_val.reset_index(drop=True)\n",
    "df_test = df_test.reset_index(drop=True)\n",
    "\n",
    "# Define target\n",
    "y_train = df_train['target'].values\n",
    "y_val = df_val['target'].values\n",
    "y_test = df_test['target'].values\n",
    "\n",
    "# Delete target from dataframe\n",
    "\n",
    "df_train = df_train.drop(['card', 'target'], axis = 1)\n",
    "df_test = df_test.drop(['card', 'target'], axis = 1)\n",
    "df_val = df_val.drop(['card', 'target'], axis = 1)\n",
    "\n",
    "#display(df_train.columns)\n"
   ]
  },
  {
   "cell_type": "markdown",
   "id": "c345db63",
   "metadata": {},
   "source": [
    "## Question 1\n",
    "ROC AUC could also be used to evaluate feature importance of numerical variables.\n",
    "\n",
    "For each numerical variable, use it as score and compute AUC with the card variable.\n",
    "\n",
    "Use the training dataset for that.\n",
    "\n",
    "If your AUC is < 0.5, invert this variable by putting \"-\" in front\n",
    "\n",
    "(e.g. -df_train['expenditure'])\n",
    "\n",
    "AUC can go below 0.5 if the variable is negatively correlated with the target varialble. You can change the direction of the correlation by negating this variable - then negative correlation becomes positive.\n",
    "\n",
    "Which numerical variable (among the following 4) has the highest AUC?\n",
    "- reports\n",
    "- dependents\n",
    "- active\n",
    "- share"
   ]
  },
  {
   "cell_type": "code",
   "execution_count": 126,
   "id": "79c8f310",
   "metadata": {},
   "outputs": [
    {
     "name": "stdout",
     "output_type": "stream",
     "text": [
      "<class 'pandas.core.frame.DataFrame'>\n",
      "RangeIndex: 1319 entries, 0 to 1318\n",
      "Data columns (total 13 columns):\n",
      " #   Column       Non-Null Count  Dtype  \n",
      "---  ------       --------------  -----  \n",
      " 0   card         1319 non-null   object \n",
      " 1   reports      1319 non-null   int64  \n",
      " 2   age          1319 non-null   float64\n",
      " 3   income       1319 non-null   float64\n",
      " 4   share        1319 non-null   float64\n",
      " 5   expenditure  1319 non-null   float64\n",
      " 6   owner        1319 non-null   object \n",
      " 7   selfemp      1319 non-null   object \n",
      " 8   dependents   1319 non-null   int64  \n",
      " 9   months       1319 non-null   int64  \n",
      " 10  majorcards   1319 non-null   int64  \n",
      " 11  active       1319 non-null   int64  \n",
      " 12  target       1319 non-null   int64  \n",
      "dtypes: float64(4), int64(6), object(3)\n",
      "memory usage: 134.1+ KB\n"
     ]
    },
    {
     "data": {
      "text/plain": [
       "None"
      ]
     },
     "metadata": {},
     "output_type": "display_data"
    }
   ],
   "source": [
    "# Get info about variable type\n",
    "display(df.info())"
   ]
  },
  {
   "cell_type": "code",
   "execution_count": 127,
   "id": "567fe54d",
   "metadata": {},
   "outputs": [
    {
     "data": {
      "text/plain": [
       "{'reports': 0.2833,\n",
       " 'age': 0.476,\n",
       " 'income': 0.5908,\n",
       " 'share': 0.9892,\n",
       " 'expenditure': 0.991,\n",
       " 'dependents': 0.4672,\n",
       " 'months': 0.4706,\n",
       " 'majorcards': 0.5344,\n",
       " 'active': 0.6043}"
      ]
     },
     "metadata": {},
     "output_type": "display_data"
    }
   ],
   "source": [
    "# Define numerical_columns\n",
    "cols_num = ['reports', 'age', 'income', 'share', 'expenditure', 'dependents', 'months', 'majorcards', 'active']\n",
    "\n",
    "auc_score_nums = {}\n",
    "\n",
    "# Calculate roc_auc_score\n",
    "for col in cols_num:\n",
    "    auc_sc = roc_auc_score(y_train, df_train[col])\n",
    "    auc_score_nums[col] = round(auc_sc,4)\n",
    "    \n",
    "display(auc_score_nums)"
   ]
  },
  {
   "cell_type": "code",
   "execution_count": 128,
   "id": "4903f85a",
   "metadata": {},
   "outputs": [
    {
     "data": {
      "text/plain": [
       "{'reports': 0.7167,\n",
       " 'age': 0.524,\n",
       " 'income': 0.5908,\n",
       " 'share': 0.9892,\n",
       " 'expenditure': 0.991,\n",
       " 'dependents': 0.5328,\n",
       " 'months': 0.5294,\n",
       " 'majorcards': 0.5344,\n",
       " 'active': 0.6043}"
      ]
     },
     "metadata": {},
     "output_type": "display_data"
    }
   ],
   "source": [
    "auc_score_nums2 = {}\n",
    "\n",
    "# Colculate roc_auc_score again with negative sign for cols with auc < 0.5\n",
    "for col in cols_num:\n",
    "    if auc_score_nums[col]<0.5:\n",
    "        auc_sc = roc_auc_score(y_train, -df_train[col])\n",
    "    else:\n",
    "        auc_sc = roc_auc_score(y_train, df_train[col])\n",
    "    auc_score_nums2[col] = round(auc_sc,4)\n",
    "    \n",
    "display(auc_score_nums2)"
   ]
  },
  {
   "cell_type": "markdown",
   "id": "2dee12f3",
   "metadata": {},
   "source": [
    "The numerical variable 'expenditure' has the hightes auc. From the list 'share' has the hightes value."
   ]
  },
  {
   "cell_type": "markdown",
   "id": "8df1c84e",
   "metadata": {},
   "source": [
    "## Training the model\n",
    "From now on, use these columns only:\n",
    "\n",
    "[\"reports\", \"age\", \"income\", \"share\", \"expenditure\", \"dependents\", \"months\", \"majorcards\", \"active\", \"owner\", \"selfemp\"]\n",
    "\n",
    "Apply one-hot-encoding using DictVectorizer and train the logistic regression with these parameters:\n",
    "\n",
    "LogisticRegression(solver='liblinear', C=1.0, max_iter=1000)"
   ]
  },
  {
   "cell_type": "code",
   "execution_count": 129,
   "id": "344c9fa4",
   "metadata": {},
   "outputs": [],
   "source": [
    "# Define features\n",
    "\n",
    "col_feat = [\"reports\", \"age\", \"income\", \"share\", \"expenditure\", \"dependents\", \"months\", \"majorcards\", \"active\", \"owner\", \"selfemp\"]"
   ]
  },
  {
   "cell_type": "code",
   "execution_count": 130,
   "id": "8c1d0606",
   "metadata": {},
   "outputs": [],
   "source": [
    "# One-hot-encoding\n",
    "train_dicts = df_train[col_feat].to_dict(orient='records')\n",
    "dv = DictVectorizer(sparse = False) \n",
    "X_train = dv.fit_transform(train_dicts)\n",
    "\n",
    "val_dicts = df_val[col_feat].to_dict(orient='records')\n",
    "X_val = dv.transform(val_dicts)"
   ]
  },
  {
   "cell_type": "code",
   "execution_count": 131,
   "id": "9f556f6b",
   "metadata": {},
   "outputs": [
    {
     "data": {
      "text/plain": [
       "LogisticRegression(max_iter=1000, solver='liblinear')"
      ]
     },
     "execution_count": 131,
     "metadata": {},
     "output_type": "execute_result"
    }
   ],
   "source": [
    "# Train Logisitc Regression\n",
    "\n",
    "lr = LogisticRegression(solver='liblinear', C=1.0, max_iter=1000)\n",
    "lr.fit(X_train, y_train)"
   ]
  },
  {
   "cell_type": "markdown",
   "id": "bfebe1ee",
   "metadata": {},
   "source": [
    "## Question 2\n",
    "\n",
    "What's the AUC of this model on the validation dataset? (round to 3 digits)"
   ]
  },
  {
   "cell_type": "code",
   "execution_count": 132,
   "id": "d9d97a32",
   "metadata": {},
   "outputs": [
    {
     "data": {
      "text/plain": [
       "'AUC of this model on validation dataset is:'"
      ]
     },
     "metadata": {},
     "output_type": "display_data"
    },
    {
     "data": {
      "text/plain": [
       "0.995"
      ]
     },
     "metadata": {},
     "output_type": "display_data"
    }
   ],
   "source": [
    "# Predict y_pred\n",
    "y_pred = lr.predict_proba(X_val)[:,1]\n",
    "# Calculate auc\n",
    "auc = roc_auc_score(y_val, y_pred)\n",
    "\n",
    "display('AUC of this model on validation dataset is:', round(auc, 3))"
   ]
  },
  {
   "cell_type": "markdown",
   "id": "2ea5ff6a",
   "metadata": {},
   "source": [
    "## Question 3\n",
    "Now let's compute precision and recall for our model.\n",
    "\n",
    "Evaluate the model on all thresholds from 0.0 to 1.0 with step 0.01\n",
    "\n",
    "For each threshold, compute precision and recall\n",
    "\n",
    "Plot them\n",
    "\n",
    "At which threshold precision and recall curves intersect?"
   ]
  },
  {
   "cell_type": "code",
   "execution_count": 133,
   "id": "943fca6d",
   "metadata": {},
   "outputs": [],
   "source": [
    "# Evaluate model on different thresholds\n",
    "\n",
    "scores=[]\n",
    "\n",
    "# Calculate fp, tp, tn, fn for every thershold\n",
    "\n",
    "for trs in np.linspace(0.0, 1.0, 101): \n",
    "    \n",
    "    actual_positive = (y_val == 1)\n",
    "    actual_negative = (y_val == 0)\n",
    "\n",
    "    predict_positive = (y_pred >= trs)\n",
    "    predict_negative = (y_pred < trs)\n",
    "\n",
    "    tp = (predict_positive & actual_positive).sum()\n",
    "    tn = (predict_negative & actual_negative).sum()\n",
    "\n",
    "    fp = (predict_positive & actual_negative).sum()\n",
    "    fn = (predict_negative & actual_positive).sum()\n",
    "\n",
    "    scores.append((trs, tp, fp, fn, tn))\n",
    "\n"
   ]
  },
  {
   "cell_type": "code",
   "execution_count": 134,
   "id": "119f3168",
   "metadata": {},
   "outputs": [],
   "source": [
    "# Make dataframe out of results\n",
    "columns = ['threshold', 'tp', 'fp', 'fn', 'tn']\n",
    "df_scores = pd.DataFrame(scores, columns=columns)\n",
    "\n",
    "# Calculate precision: TP / (TP + FP)\n",
    "df_scores['precision'] = df_scores['tp'] / (df_scores['fp']+df_scores['tp'])\n",
    "\n",
    "# Calculate recall: TP / (FN + TP)\n",
    "df_scores['recall'] = df_scores['tp'] / (df_scores['fn']+df_scores['tp'])\n",
    "\n",
    "#Check\n",
    "#display(df_scores.head())"
   ]
  },
  {
   "cell_type": "code",
   "execution_count": 135,
   "id": "6d2c6d74",
   "metadata": {},
   "outputs": [
    {
     "data": {
      "image/png": "[encoded data removed]",
      "text/plain": [
       "<Figure size 432x288 with 1 Axes>"
      ]
     },
     "metadata": {
      "needs_background": "light"
     },
     "output_type": "display_data"
    }
   ],
   "source": [
    "# Plot result\n",
    "plt.plot(df_scores['threshold'], df_scores['precision'], label = 'precision',c='green');\n",
    "plt.plot(df_scores['threshold'], df_scores['recall'], label = 'recall');\n",
    "plt.legend();"
   ]
  },
  {
   "cell_type": "code",
   "execution_count": 136,
   "id": "ea18b9da",
   "metadata": {},
   "outputs": [
    {
     "data": {
      "text/plain": [
       "'Precsion and recall intersect at threshold:'"
      ]
     },
     "metadata": {},
     "output_type": "display_data"
    },
    {
     "data": {
      "text/html": [
       "<div>\n",
       "<style scoped>\n",
       "    .dataframe tbody tr th:only-of-type {\n",
       "        vertical-align: middle;\n",
       "    }\n",
       "\n",
       "    .dataframe tbody tr th {\n",
       "        vertical-align: top;\n",
       "    }\n",
       "\n",
       "    .dataframe thead th {\n",
       "        text-align: right;\n",
       "    }\n",
       "</style>\n",
       "<table border=\"1\" class=\"dataframe\">\n",
       "  <thead>\n",
       "    <tr style=\"text-align: right;\">\n",
       "      <th></th>\n",
       "      <th>threshold</th>\n",
       "      <th>precision</th>\n",
       "      <th>recall</th>\n",
       "    </tr>\n",
       "  </thead>\n",
       "  <tbody>\n",
       "    <tr>\n",
       "      <th>24</th>\n",
       "      <td>0.24</td>\n",
       "      <td>0.976303</td>\n",
       "      <td>0.976303</td>\n",
       "    </tr>\n",
       "    <tr>\n",
       "      <th>25</th>\n",
       "      <td>0.25</td>\n",
       "      <td>0.976303</td>\n",
       "      <td>0.976303</td>\n",
       "    </tr>\n",
       "    <tr>\n",
       "      <th>26</th>\n",
       "      <td>0.26</td>\n",
       "      <td>0.976303</td>\n",
       "      <td>0.976303</td>\n",
       "    </tr>\n",
       "    <tr>\n",
       "      <th>27</th>\n",
       "      <td>0.27</td>\n",
       "      <td>0.976303</td>\n",
       "      <td>0.976303</td>\n",
       "    </tr>\n",
       "    <tr>\n",
       "      <th>28</th>\n",
       "      <td>0.28</td>\n",
       "      <td>0.976303</td>\n",
       "      <td>0.976303</td>\n",
       "    </tr>\n",
       "    <tr>\n",
       "      <th>29</th>\n",
       "      <td>0.29</td>\n",
       "      <td>0.976303</td>\n",
       "      <td>0.976303</td>\n",
       "    </tr>\n",
       "  </tbody>\n",
       "</table>\n",
       "</div>"
      ],
      "text/plain": [
       "    threshold  precision    recall\n",
       "24       0.24   0.976303  0.976303\n",
       "25       0.25   0.976303  0.976303\n",
       "26       0.26   0.976303  0.976303\n",
       "27       0.27   0.976303  0.976303\n",
       "28       0.28   0.976303  0.976303\n",
       "29       0.29   0.976303  0.976303"
      ]
     },
     "metadata": {},
     "output_type": "display_data"
    }
   ],
   "source": [
    "# Show intersection\n",
    "display('Precsion and recall intersect at threshold:', df_scores.loc[df_scores['precision']==df_scores['recall'], ['threshold', 'precision', 'recall']])"
   ]
  },
  {
   "cell_type": "markdown",
   "id": "bdfcf1cd",
   "metadata": {},
   "source": [
    "## Question 4\n",
    "Precision and recall are conflicting - when one grows, the other goes down. That's why they are often combined into the F1 score - a metrics that takes into account both\n",
    "\n",
    "This is the formula for computing F1:\n",
    "\n",
    "F1 = 2 * P * R / (P + R)\n",
    "\n",
    "Where P is precision and R is recall.\n",
    "\n",
    "Let's compute F1 for all thresholds from 0.0 to 1.0 with increment 0.01\n",
    "\n",
    "At which threshold F1 is maximal?"
   ]
  },
  {
   "cell_type": "code",
   "execution_count": 137,
   "id": "88524773",
   "metadata": {},
   "outputs": [
    {
     "data": {
      "text/plain": [
       "'F1 max = '"
      ]
     },
     "metadata": {},
     "output_type": "display_data"
    },
    {
     "data": {
      "text/plain": [
       "0.9832134292565947"
      ]
     },
     "metadata": {},
     "output_type": "display_data"
    },
    {
     "data": {
      "text/plain": [
       "'F1 is maximal at threshold:'"
      ]
     },
     "metadata": {},
     "output_type": "display_data"
    },
    {
     "data": {
      "text/html": [
       "<div>\n",
       "<style scoped>\n",
       "    .dataframe tbody tr th:only-of-type {\n",
       "        vertical-align: middle;\n",
       "    }\n",
       "\n",
       "    .dataframe tbody tr th {\n",
       "        vertical-align: top;\n",
       "    }\n",
       "\n",
       "    .dataframe thead th {\n",
       "        text-align: right;\n",
       "    }\n",
       "</style>\n",
       "<table border=\"1\" class=\"dataframe\">\n",
       "  <thead>\n",
       "    <tr style=\"text-align: right;\">\n",
       "      <th></th>\n",
       "      <th>threshold</th>\n",
       "      <th>tp</th>\n",
       "      <th>fp</th>\n",
       "      <th>fn</th>\n",
       "      <th>tn</th>\n",
       "      <th>precision</th>\n",
       "      <th>recall</th>\n",
       "      <th>F1</th>\n",
       "    </tr>\n",
       "  </thead>\n",
       "  <tbody>\n",
       "    <tr>\n",
       "      <th>35</th>\n",
       "      <td>0.35</td>\n",
       "      <td>205</td>\n",
       "      <td>1</td>\n",
       "      <td>6</td>\n",
       "      <td>52</td>\n",
       "      <td>0.995146</td>\n",
       "      <td>0.971564</td>\n",
       "      <td>0.983213</td>\n",
       "    </tr>\n",
       "    <tr>\n",
       "      <th>36</th>\n",
       "      <td>0.36</td>\n",
       "      <td>205</td>\n",
       "      <td>1</td>\n",
       "      <td>6</td>\n",
       "      <td>52</td>\n",
       "      <td>0.995146</td>\n",
       "      <td>0.971564</td>\n",
       "      <td>0.983213</td>\n",
       "    </tr>\n",
       "    <tr>\n",
       "      <th>37</th>\n",
       "      <td>0.37</td>\n",
       "      <td>205</td>\n",
       "      <td>1</td>\n",
       "      <td>6</td>\n",
       "      <td>52</td>\n",
       "      <td>0.995146</td>\n",
       "      <td>0.971564</td>\n",
       "      <td>0.983213</td>\n",
       "    </tr>\n",
       "    <tr>\n",
       "      <th>38</th>\n",
       "      <td>0.38</td>\n",
       "      <td>205</td>\n",
       "      <td>1</td>\n",
       "      <td>6</td>\n",
       "      <td>52</td>\n",
       "      <td>0.995146</td>\n",
       "      <td>0.971564</td>\n",
       "      <td>0.983213</td>\n",
       "    </tr>\n",
       "    <tr>\n",
       "      <th>39</th>\n",
       "      <td>0.39</td>\n",
       "      <td>205</td>\n",
       "      <td>1</td>\n",
       "      <td>6</td>\n",
       "      <td>52</td>\n",
       "      <td>0.995146</td>\n",
       "      <td>0.971564</td>\n",
       "      <td>0.983213</td>\n",
       "    </tr>\n",
       "    <tr>\n",
       "      <th>40</th>\n",
       "      <td>0.40</td>\n",
       "      <td>205</td>\n",
       "      <td>1</td>\n",
       "      <td>6</td>\n",
       "      <td>52</td>\n",
       "      <td>0.995146</td>\n",
       "      <td>0.971564</td>\n",
       "      <td>0.983213</td>\n",
       "    </tr>\n",
       "    <tr>\n",
       "      <th>41</th>\n",
       "      <td>0.41</td>\n",
       "      <td>205</td>\n",
       "      <td>1</td>\n",
       "      <td>6</td>\n",
       "      <td>52</td>\n",
       "      <td>0.995146</td>\n",
       "      <td>0.971564</td>\n",
       "      <td>0.983213</td>\n",
       "    </tr>\n",
       "  </tbody>\n",
       "</table>\n",
       "</div>"
      ],
      "text/plain": [
       "    threshold   tp  fp  fn  tn  precision    recall        F1\n",
       "35       0.35  205   1   6  52   0.995146  0.971564  0.983213\n",
       "36       0.36  205   1   6  52   0.995146  0.971564  0.983213\n",
       "37       0.37  205   1   6  52   0.995146  0.971564  0.983213\n",
       "38       0.38  205   1   6  52   0.995146  0.971564  0.983213\n",
       "39       0.39  205   1   6  52   0.995146  0.971564  0.983213\n",
       "40       0.40  205   1   6  52   0.995146  0.971564  0.983213\n",
       "41       0.41  205   1   6  52   0.995146  0.971564  0.983213"
      ]
     },
     "metadata": {},
     "output_type": "display_data"
    }
   ],
   "source": [
    "# Calculate F1\n",
    "df_scores['F1'] = 2 * df_scores['precision'] * df_scores['recall'] / ( df_scores['precision'] + df_scores['recall'])\n",
    "\n",
    "# Threshold with maximal F1\n",
    "max = df_scores['F1'].max()\n",
    "display('F1 max = ', max)\n",
    "display('F1 is maximal at threshold:', df_scores[df_scores['F1']==max])"
   ]
  },
  {
   "cell_type": "markdown",
   "id": "a4c264c2",
   "metadata": {},
   "source": [
    "## Question 5\n",
    "\n",
    "Use the KFold class from Scikit-Learn to evaluate our model on 5 different folds:\n",
    "\n",
    "KFold(n_splits=5, shuffle=True, random_state=1)\n",
    "\n",
    "Iterate over different folds of df_full_train\n",
    "\n",
    "Split the data into train and validation\n",
    "\n",
    "Train the model on train with these parameters: LogisticRegression(solver='liblinear', C=1.0, max_iter=1000)\n",
    "\n",
    "Use AUC to evaluate the model on validation\n",
    "\n",
    "How large is standard devidation of the AUC scores across different folds?"
   ]
  },
  {
   "cell_type": "code",
   "execution_count": 138,
   "id": "d3c26076",
   "metadata": {},
   "outputs": [],
   "source": [
    "# Define function for data preparation\n",
    "def data_prep(df_func):\n",
    "    df_func = df_func.reset_index(drop=True)\n",
    "    \n",
    "    y_prep = df_func['target'].values\n",
    "    \n",
    "    df_func = df_func.drop(['card', 'target'], axis = 1)\n",
    "    \n",
    "    df_dicts = df_func[col_feat].to_dict(orient='records')   \n",
    "            \n",
    "    return df_dicts, y_prep"
   ]
  },
  {
   "cell_type": "code",
   "execution_count": 139,
   "id": "f32f55b6",
   "metadata": {},
   "outputs": [
    {
     "data": {
      "text/plain": [
       "'Results of KFold:'"
      ]
     },
     "metadata": {},
     "output_type": "display_data"
    },
    {
     "data": {
      "text/plain": [
       "[0.9941860465116279,\n",
       " 0.9941176470588236,\n",
       " 0.9943346508563901,\n",
       " 0.9996107939802803,\n",
       " 1.0]"
      ]
     },
     "metadata": {},
     "output_type": "display_data"
    },
    {
     "data": {
      "text/plain": [
       "'Mean:'"
      ]
     },
     "metadata": {},
     "output_type": "display_data"
    },
    {
     "data": {
      "text/plain": [
       "0.9964498276814243"
      ]
     },
     "metadata": {},
     "output_type": "display_data"
    },
    {
     "data": {
      "text/plain": [
       "'Standard deviation'"
      ]
     },
     "metadata": {},
     "output_type": "display_data"
    },
    {
     "data": {
      "text/plain": [
       "0.003"
      ]
     },
     "metadata": {},
     "output_type": "display_data"
    }
   ],
   "source": [
    "# Define KFold\n",
    "kf = KFold(n_splits = 5, shuffle = True, random_state =seed)\n",
    "\n",
    "scores=[]\n",
    "\n",
    "# Iteration over different folds\n",
    "for train_idx, val_idx in kf.split(df_train_full):\n",
    "    df_train = df_train_full.iloc[train_idx]\n",
    "    df_val = df_train_full.iloc[val_idx]\n",
    "    \n",
    "    df_train_dicts, y_train = data_prep(df_train)\n",
    "    df_val_dicts, y_val = data_prep(df_val)\n",
    "    \n",
    "    dv = DictVectorizer(sparse = False)\n",
    "    X_train = dv.fit_transform(df_train_dicts)\n",
    "    X_val = dv.transform(df_val_dicts)\n",
    "    \n",
    "    lr = LogisticRegression(solver='liblinear', C=1.0, max_iter=1000)\n",
    "    lr.fit(X_train, y_train)\n",
    "    \n",
    "    y_pred = lr.predict_proba(X_val)[:, 1]\n",
    "    \n",
    "    auc = roc_auc_score(y_val, y_pred)\n",
    "    scores.append(auc)\n",
    "    \n",
    "display('Results of KFold:', scores, 'Mean:', np.mean(scores), 'Standard deviation', round(np.std(scores), 3))"
   ]
  },
  {
   "cell_type": "markdown",
   "id": "1cbed5b2",
   "metadata": {},
   "source": [
    "## Question 6\n",
    "\n",
    "Now let's use 5-Fold cross-validation to find the best parameter C\n",
    "\n",
    "Iterate over the following C values: [0.01, 0.1, 1, 10]\n",
    "\n",
    "Initialize KFold with the same parameters as previously\n",
    "\n",
    "Use these parametes for the model: LogisticRegression(solver='liblinear', C=C, max_iter=1000)\n",
    "\n",
    "Compute the mean score as well as the std (round the mean and std to 3 decimal digits)\n",
    "\n",
    "Which C leads to the best mean score?\n",
    "\n",
    "0.01\n",
    "0.1\n",
    "1\n",
    "10\n",
    "\n",
    "If you have ties, select the score with the lowest std. If you still have ties, select the smallest C"
   ]
  },
  {
   "cell_type": "code",
   "execution_count": 141,
   "id": "597af731",
   "metadata": {},
   "outputs": [
    {
     "data": {
      "text/plain": [
       "{0.01: [0.992, 0.006],\n",
       " 0.1: [0.995, 0.004],\n",
       " 1: [0.996, 0.003],\n",
       " 10: [0.996, 0.003]}"
      ]
     },
     "metadata": {},
     "output_type": "display_data"
    }
   ],
   "source": [
    "# Iterate over C and KFold\n",
    "\n",
    "mean_scores = {}\n",
    "\n",
    "for C in  [0.01, 0.1, 1, 10]:\n",
    "    scores=[]\n",
    "\n",
    "    # Iteration over different folds\n",
    "    for train_idx, val_idx in kf.split(df_train_full):\n",
    "        df_train = df_train_full.iloc[train_idx]\n",
    "        df_val = df_train_full.iloc[val_idx]\n",
    "    \n",
    "        df_train_dicts, y_train = data_prep(df_train)\n",
    "        df_val_dicts, y_val = data_prep(df_val)\n",
    "    \n",
    "        dv = DictVectorizer(sparse = False)\n",
    "        X_train = dv.fit_transform(df_train_dicts)\n",
    "        X_val = dv.transform(df_val_dicts)\n",
    "    \n",
    "        lr = LogisticRegression(solver='liblinear', C=C, max_iter=1000)\n",
    "        lr.fit(X_train, y_train)\n",
    "    \n",
    "        y_pred = lr.predict_proba(X_val)[:, 1]\n",
    "    \n",
    "        auc = roc_auc_score(y_val, y_pred)\n",
    "        scores.append(auc)\n",
    "    \n",
    "    mean_scores[C] = [round(np.mean(scores), 3), round(np.std(scores), 3)]\n",
    "    \n",
    "display(mean_scores)\n",
    "    "
   ]
  },
  {
   "cell_type": "code",
   "execution_count": null,
   "id": "163a6cd8",
   "metadata": {},
   "outputs": [],
   "source": []
  }
 ],
 "metadata": {
  "kernelspec": {
   "display_name": "Python 3 (ipykernel)",
   "language": "python",
   "name": "python3"
  },
  "language_info": {
   "codemirror_mode": {
    "name": "ipython",
    "version": 3
   },
   "file_extension": ".py",
   "mimetype": "text/x-python",
   "name": "python",
   "nbconvert_exporter": "python",
   "pygments_lexer": "ipython3",
   "version": "3.9.7"
  }
 },
 "nbformat": 4,
 "nbformat_minor": 5
}
